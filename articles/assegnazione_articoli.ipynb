{
 "cells": [
  {
   "cell_type": "code",
   "execution_count": 7,
   "metadata": {},
   "outputs": [
    {
     "name": "stdout",
     "output_type": "stream",
     "text": [
      "{0: 'frank_wolfe', 1: 'zero_order_attack', 2: 'zero_order_stochastic', 3: 'nesterov'}\n",
      "[('damiano', 2, 'zero_order_stochastic'), ('domenico', 3, 'nesterov'), ('fra', 0, 'frank_wolfe'), ('paolo', 1, 'zero_order_attack')]\n"
     ]
    }
   ],
   "source": [
    "import numpy as np\n",
    "\n",
    "RANDOM_SEED = 42\n",
    "np.random.seed(RANDOM_SEED) \n",
    "\n",
    "# Parameters\n",
    "mydict = {0: 'frank_wolfe', 1:'zero_order_attack', 2:'zero_order_stochastic', 3:'nesterov'}\n",
    "user = ['damiano', 'domenico', 'fra', 'paolo']\n",
    "\n",
    "# Init exit number\n",
    "exit_number = []\n",
    "\n",
    "# Init results \n",
    "pair = []\n",
    "\n",
    "### Decsion process\n",
    "for u in user:\n",
    "    # Get a number\n",
    "    choice = np.random.randint(0, 4)\n",
    "    \n",
    "    # If the number is not already exit we have an assigment \n",
    "    if choice not in exit_number:\n",
    "        exit_number.append(choice)\n",
    "        pair.append((u, choice, mydict[choice]))\n",
    "        \n",
    "    # Otherwise keep trying until\n",
    "    else:\n",
    "        while choice in exit_number:\n",
    "            choice = np.random.randint(0, 4)\n",
    "        exit_number.append(choice)\n",
    "        pair.append((u, choice, mydict[choice]))\n",
    "        \n",
    "# Print results    \n",
    "print(mydict)\n",
    "print(pair)"
   ]
  }
 ],
 "metadata": {
  "kernelspec": {
   "display_name": "Python 3",
   "language": "python",
   "name": "python3"
  },
  "language_info": {
   "codemirror_mode": {
    "name": "ipython",
    "version": 3
   },
   "file_extension": ".py",
   "mimetype": "text/x-python",
   "name": "python",
   "nbconvert_exporter": "python",
   "pygments_lexer": "ipython3",
   "version": "3.6.8"
  }
 },
 "nbformat": 4,
 "nbformat_minor": 4
}
