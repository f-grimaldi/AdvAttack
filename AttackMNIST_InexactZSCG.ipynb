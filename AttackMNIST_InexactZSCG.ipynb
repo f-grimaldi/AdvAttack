{
 "cells": [
  {
   "cell_type": "markdown",
   "metadata": {
    "colab_type": "text",
    "id": "V_ThfO1k_zCv"
   },
   "source": [
    "## Attacking MNIST Dataset\n",
    "\n",
    "Here we use a custom NN trained on MNIST data to perform *zero order Stochastic Gradient Descent*"
   ]
  },
  {
   "cell_type": "markdown",
   "metadata": {
    "colab_type": "text",
    "id": "IK7-cmYQ_zCw"
   },
   "source": [
    "**1. Set current directory**"
   ]
  },
  {
   "cell_type": "code",
   "execution_count": null,
   "metadata": {},
   "outputs": [],
   "source": [
    "from google.colab import drive\n",
    "drive.mount('/content/gdrive')"
   ]
  },
  {
   "cell_type": "code",
   "execution_count": null,
   "metadata": {
    "colab": {
     "base_uri": "https://localhost:8080/",
     "height": 34
    },
    "colab_type": "code",
    "id": "QOimqTxi_zCy",
    "outputId": "b88ba5e2-fd17-47a0-e144-3767b4bcd538"
   },
   "outputs": [],
   "source": [
    "cd /content/gdrive/My Drive/Colab Notebooks/Adversarial/AdvAttack/src"
   ]
  },
  {
   "cell_type": "markdown",
   "metadata": {},
   "source": [
    "**2. Import libraries**"
   ]
  },
  {
   "cell_type": "code",
   "execution_count": 4,
   "metadata": {
    "colab": {},
    "colab_type": "code",
    "id": "TDBKbuvQ_zC4"
   },
   "outputs": [],
   "source": [
    "import src.loss as customLoss\n",
    "import src.zeroOptim as zeroOptim\n",
    "import src.dataset as data\n",
    "\n",
    "import numpy as np\n",
    "import matplotlib.pyplot as plt\n",
    "from sklearn.metrics import accuracy_score\n",
    "from tqdm import tqdm\n",
    "\n",
    "import torch\n",
    "from torchvision import transforms\n",
    "from torch import nn, optim\n",
    "from src.models import MnistNet"
   ]
  },
  {
   "cell_type": "markdown",
   "metadata": {
    "colab_type": "text",
    "id": "oFKseUf9_zC9"
   },
   "source": [
    "**3. Retrieve MNIST data**\n",
    "\n",
    "We retrieve the MNIST data. <br>\n",
    "The 'standard' *trasnform.compose* method just convert the data to *torch.Tensor* without any rescaling or normalizzation"
   ]
  },
  {
   "cell_type": "code",
   "execution_count": 2,
   "metadata": {
    "colab": {
     "base_uri": "https://localhost:8080/",
     "height": 179
    },
    "colab_type": "code",
    "id": "F0t6Rapb_zDC",
    "outputId": "c55c0b7c-e646-4eea-fdb6-3cdf67433231"
   },
   "outputs": [
    {
     "name": "stdout",
     "output_type": "stream",
     "text": [
      "\n",
      "Batch is a <class 'list'>\n",
      "The 1st element is a <class 'torch.Tensor'> with shape torch.Size([250, 1, 28, 28])\n",
      "The 2nd element is a <class 'torch.Tensor'> with shape torch.Size([250])\n"
     ]
    },
    {
     "data": {
      "image/png": "[encoded data removed]",
      "text/plain": [
       "<Figure size 1440x432 with 5 Axes>"
      ]
     },
     "metadata": {
      "needs_background": "light"
     },
     "output_type": "display_data"
    }
   ],
   "source": [
    "DataLoader = data.MNIST(transform='standard')\n",
    "train, test = DataLoader.get_dataloader(batch_size=250, num_workers=0)\n",
    "DataLoader.get_info()"
   ]
  },
  {
   "cell_type": "markdown",
   "metadata": {},
   "source": [
    "**4. Retrieve the network**"
   ]
  },
  {
   "cell_type": "code",
   "execution_count": 7,
   "metadata": {
    "colab": {},
    "colab_type": "code",
    "id": "o9P2UgQz_zDR"
   },
   "outputs": [
    {
     "data": {
      "text/plain": [
       "<All keys matched successfully>"
      ]
     },
     "execution_count": 7,
     "metadata": {},
     "output_type": "execute_result"
    }
   ],
   "source": [
    "device = torch.device('cuda')\n",
    "net = MnistNet().to(device)\n",
    "net.load_state_dict(torch.load('models/mnistBaseV2_state_dict.pth'))"
   ]
  },
  {
   "cell_type": "markdown",
   "metadata": {
    "colab_type": "text",
    "id": "NWc2Cig6_zDa"
   },
   "source": [
    "### MAIN\n",
    "**5. ADVERSARIAL ATTACK**\n",
    "\n",
    "Here we try to start with a random rightfully classified image from the validation set and we try to use the non-convex usage version of *Zero-order Stochastic Conditional Gradient with Inexact Updates* to modify the image in order to make the network be mistaken.\n",
    "\n",
    "We can set an epsilon as an upper bound for the inifinity norm of our input."
   ]
  },
  {
   "cell_type": "markdown",
   "metadata": {},
   "source": [
    "**Args:**\n",
    "\n",
    "        Name            Type                Description\n",
    "        x:              (torch.tensor)      The variable of our optimization problem. Should be a 3D tensor (img)\n",
    "        v:              (float)             The gaussian smoothing\n",
    "        mk:             (list)              Number of normal vector to generate at every step\n",
    "        gamma_k         (list)              Pseudo learning rate inside ICG at every step\n",
    "        mu_k            (list)              Stopping criterion inside ICG at every step\n",
    "        epsilon:        (float)             The upper bound of the infinity norm\n",
    "        C:              (tuple)             The boundaires of the pixel. Default is (0, 1)\n",
    "        max_steps:      (int)               The maximum number of steps. Default is 100\n",
    "        stop_criterion  (float)             The minimum loss function. Default is 1e-3\n",
    "        verbose:        (int)               Display information or not. Default is 0\n",
    "        additional_out  (bool)              Return also all the x. Default is False\n",
    "        tqdm_disable    (bool)              Disable the tqdm bar. Default is False\n",
    "        max_t           (int)               The maximum number of iteration inside of ICG"
   ]
  },
  {
   "cell_type": "markdown",
   "metadata": {},
   "source": [
    "**Suggested values** <br>\n",
    "*Zeroth-order Nonconvex Stochastic Optimization: Handling Constraints, High-Dimensionality and Saddle-Points* (rishnakumar Balasubramanian†1 and Saeed Ghadimi‡2):\n",
    "\n",
    "$v = \\sqrt{\\frac{1}{2N(d+3)^3}}$, \n",
    "$\\gamma_{k} =2L$,\n",
    "$\\mu_{k} = \\frac{1}{4N}$\n",
    "$m_{k} = 6(d + 5)N$,\n",
    "$\\forall k \\geq 1$\n",
    "\n",
    "where:<br>\n",
    "- *N* is the number of steps <br>\n",
    "- *d* is the dimension of *x* <br>\n",
    "- *L* is the constant of the Lipschitz gradient of f\n",
    "\n",
    "**E.G:** <br>\n",
    "If we set $N = 100$, $L = 1$ and we have an image 28 * 28 ($d = 784$) we have: <br>\n",
    "\n",
    "- $v = 3e-6$\n",
    "- $\\gamma_{k} = 2$\n",
    "- $\\mu_{k} = 0.0025$\n",
    "- $m_{k} = 4734$\n",
    "\n",
    "**N.B** <br>\n",
    "-- TODO -- <br>\n",
    "-- Set real values -- "
   ]
  },
  {
   "cell_type": "code",
   "execution_count": 8,
   "metadata": {},
   "outputs": [
    {
     "data": {
      "image/png": "[encoded data removed]",
      "text/plain": [
       "<Figure size 432x288 with 1 Axes>"
      ]
     },
     "metadata": {
      "needs_background": "light"
     },
     "output_type": "display_data"
    }
   ],
   "source": [
    "### Get an input used as test\n",
    "for batch in test:\n",
    "    X, y = batch[0].to(device), batch[1].to(device)\n",
    "    break\n",
    "\n",
    "net.eval()\n",
    "img = X[3].cpu().numpy()\n",
    "out = nn.Softmax(dim=1)(net(X[3].reshape(1, 1, 28, 28)))\n",
    "plt.imshow(np.transpose(img, (1, 2, 0)).reshape(28, 28), cmap='gray')\n",
    "original_label = torch.argmax(out).item()\n",
    "plt.title('Output label {} with probability {:.3f}'.format(original_label, float(out[0, original_label])))\n",
    "plt.show()"
   ]
  },
  {
   "cell_type": "markdown",
   "metadata": {},
   "source": [
    "**5.1 Specific attack**\n",
    "\n",
    "Here we try to manipulate the input such that it will be misclassified in favor of a *specific* class.\n",
    "\n",
    "*E.g.* <br> \n",
    "We want to try to maximise the probability of classification of neuron *eight*"
   ]
  },
  {
   "cell_type": "code",
   "execution_count": 12,
   "metadata": {},
   "outputs": [
    {
     "name": "stderr",
     "output_type": "stream",
     "text": [
      "\n",
      "\n",
      "  0%|                                                                                          | 0/500 [00:00<?, ?it/s]\u001b[A\u001b[A\n",
      "\n",
      "  0%|▏                                                                                 | 1/500 [00:00<03:38,  2.29it/s]\u001b[A\u001b[A\n",
      "\n",
      "  0%|▎                                                                                 | 2/500 [00:00<03:35,  2.31it/s]\u001b[A\u001b[A\n",
      "\n",
      "  1%|▍                                                                                 | 3/500 [00:01<04:02,  2.05it/s]\u001b[A\u001b[A\n",
      "\n",
      "  1%|▋                                                                                 | 4/500 [00:01<03:51,  2.14it/s]\u001b[A\u001b[A\n",
      "\n",
      "  1%|▊                                                                                 | 5/500 [00:02<04:31,  1.82it/s]\u001b[A\u001b[A\n"
     ]
    },
    {
     "data": {
      "image/png": "[encoded data removed]",
      "text/plain": [
       "<Figure size 1080x360 with 2 Axes>"
      ]
     },
     "metadata": {
      "needs_background": "light"
     },
     "output_type": "display_data"
    }
   ],
   "source": [
    "### Define our custom loss function and call the optimizer\n",
    "adv_loss = customLoss.ZooLoss(neuron=8, maximise=1)\n",
    "adv_optimizer = zeroOptim.InexactZSCG(net, adv_loss, 'cuda')\n",
    "### Run the optimizer\n",
    "EPOCH = 500\n",
    "x, loss, outs = adv_optimizer.run(X[3], \n",
    "                                  v               =  1, \n",
    "                                  mk              =  [28**2]*EPOCH, \n",
    "                                  gamma_k         =  [1]*EPOCH,\n",
    "                                  mu_k            =  [0.1/(5*EPOCH)]*EPOCH,\n",
    "                                  epsilon         =  0.4, \n",
    "                                  max_steps       =  EPOCH, \n",
    "                                  verbose         =  0, \n",
    "                                  additional_out  =  False,\n",
    "                                  max_t           =  100)\n",
    "\n",
    "### Compute manually last output\n",
    "out = nn.Softmax(dim=1)(net(x.reshape(1, 1, 28, 28)))\n",
    "label = torch.argmax(out).item()\n",
    "img = x.detach().cpu().numpy()\n",
    "\n",
    "### Display results\n",
    "fig, ax = plt.subplots(1, 2, figsize=(15, 5))\n",
    "ax[0].plot(loss)\n",
    "ax[0].set_title('Adversarial loss')\n",
    "ax[0].set_ylabel('Softmax MSELoss')\n",
    "ax[0].set_xlabel('Steps')\n",
    "ax[0].grid()\n",
    "ax[1].imshow(img.reshape(28, 28), cmap='gray')\n",
    "ax[1].set_title('P(F(x, w) = {}) = {:.3f}\\nP(F(x, w) = {}) = {:.3f}'.format(label, float(out[0, label]),\n",
    "                                                                             original_label, float(out[0, original_label])))\n",
    "plt.show()"
   ]
  },
  {
   "cell_type": "markdown",
   "metadata": {},
   "source": [
    "**5.2 General attack**\n",
    "\n",
    "Here we try to manipulate the input such that it will be misclassified in favor of a whatever class. Usually its easier and we deal with the problem by minimizing the probability of the true class  \n",
    "\n",
    "*E.g.* <br> \n",
    "We want to try to manimize the probability of classification of neuron *zero*"
   ]
  },
  {
   "cell_type": "code",
   "execution_count": 11,
   "metadata": {
    "scrolled": true
   },
   "outputs": [
    {
     "name": "stderr",
     "output_type": "stream",
     "text": [
      "\n",
      "\n",
      "  0%|                                                                                          | 0/100 [00:00<?, ?it/s]\u001b[A\u001b[A\n"
     ]
    },
    {
     "data": {
      "image/png": "[encoded data removed]",
      "text/plain": [
       "<Figure size 1080x360 with 2 Axes>"
      ]
     },
     "metadata": {
      "needs_background": "light"
     },
     "output_type": "display_data"
    }
   ],
   "source": [
    "### Define our custom loss function and call the optimizer\n",
    "adv_loss = customLoss.ZooLoss(neuron=0, maximise=0)\n",
    "adv_optimizer = zeroOptim.InexactZSCG(net, adv_loss, 'cuda')\n",
    "### Run the optimizer\n",
    "EPOCH = 100\n",
    "x, loss, outs = adv_optimizer.run(X[3], \n",
    "                                  v               =  0.1, \n",
    "                                  mk              =  [28**2]*EPOCH, \n",
    "                                  gamma_k         =  [0.5]*EPOCH,\n",
    "                                  mu_k            =  [1/(5*EPOCH)]*EPOCH,\n",
    "                                  epsilon         =  0.4, \n",
    "                                  max_steps       =  EPOCH, \n",
    "                                  verbose         =  0, \n",
    "                                  additional_out  =  False,\n",
    "                                  max_t           =  100)\n",
    "\n",
    "### Compute manually last output\n",
    "out = nn.Softmax(dim=1)(net(x.reshape(1, 1, 28, 28)))\n",
    "label = torch.argmax(out).item()\n",
    "img = x.detach().cpu().numpy()\n",
    "\n",
    "### Display results\n",
    "fig, ax = plt.subplots(1, 2, figsize=(15, 5))\n",
    "ax[0].plot(loss)\n",
    "ax[0].set_title('Adversarial loss')\n",
    "ax[0].set_ylabel('Softmax MSELoss')\n",
    "ax[0].set_xlabel('Steps')\n",
    "ax[0].grid()\n",
    "ax[1].imshow(img.reshape(28, 28), cmap='gray')\n",
    "ax[1].set_title('P(F(x, w) = {}) = {:.3f}\\nP(F(x, w) = {}) = {:.3f}'.format(label, float(out[0, label]),\n",
    "                                                                             original_label, float(out[0, original_label])))\n",
    "plt.show()"
   ]
  },
  {
   "cell_type": "markdown",
   "metadata": {
    "colab_type": "text",
    "id": "AQF0fx_B5rDS"
   },
   "source": [
    "**Success rate at different infinity norm upper bound**\n",
    "\n",
    "Here we can see how the algorithm perform when it goes from stricter to less strict epsilon with the first 10 validation images."
   ]
  },
  {
   "cell_type": "markdown",
   "metadata": {},
   "source": [
    "**BETTER ON COLAB**"
   ]
  },
  {
   "cell_type": "code",
   "execution_count": null,
   "metadata": {
    "colab": {
     "base_uri": "https://localhost:8080/",
     "height": 50
    },
    "colab_type": "code",
    "id": "DlHPALAKDvys",
    "outputId": "fb18d80a-ab03-4849-d9b4-1d614bf6e848"
   },
   "outputs": [],
   "source": [
    "device = torch.device('cuda')\n",
    "EPOCH = 100\n",
    "def evaluate(e, n=7, mk=28**2, ak=0.8, v=0.2):\n",
    "    X_test = X[:n, ...]\n",
    "    success = []\n",
    "    xs = []\n",
    "    for x in tqdm(X_test):\n",
    "        y_before = int(torch.argmax(net(x.to(device).view(1, 1, 28, 28))))\n",
    "        loss = customLoss.MSELoss(neuron=y_before, maximise=0, dim=1)\n",
    "        ADVoptim = zeroOptim.InexactZSCG(model=net, loss=loss, device=device)\n",
    "        x_out, loss_curve, out =  ADVoptim.run(x, \n",
    "                                               v=v, \n",
    "                                               mk=[mk]*EPOCH, \n",
    "                                               ak=[ak]*EPOCH,\n",
    "                                               epsilon=e, \n",
    "                                               max_steps=EPOCH, \n",
    "                                               verbose=0,\n",
    "                                               tqdm_disabled=True)\n",
    "\n",
    "        if int(torch.argmax(net(x_out.reshape(1, 1, 28, 28))).item()) != y_before:\n",
    "            success.append(1)\n",
    "        else:\n",
    "            success.append(0)\n",
    "        xs.append(x_out)\n",
    "    return success, xs\n",
    "\n",
    "net = net.to(device)\n",
    "epsilon = 0.25\n",
    "success_list, out_list = evaluate(epsilon, ak=0.9)\n",
    "print('Success rate with epsilon = {}:\\t{:.1f}%'.format(epsilon, 100*np.sum(success_list)/len(success_list)))"
   ]
  },
  {
   "cell_type": "code",
   "execution_count": null,
   "metadata": {
    "colab": {
     "base_uri": "https://localhost:8080/",
     "height": 1000
    },
    "colab_type": "code",
    "id": "eBjVwJho1f77",
    "outputId": "e8318143-e54e-48ba-eda0-846941944a55"
   },
   "outputs": [],
   "source": [
    "fig, ax = plt.subplots(9, 7, figsize = (30, 31))\n",
    "for n in range(7):\n",
    "    out_before = int(torch.argmax(net(X[n, ...].to(device).view(1, 1, 28, 28))))\n",
    "    img_before = X[n, ...].detach().cpu().numpy()\n",
    "    ax[0, n].imshow(img_before.reshape(28, 28), cmap='gray')\n",
    "    ax[0, n].set_title(out_before)\n",
    "for i in range(1, 9):\n",
    "    a1, b1 = evaluate(0.1*i)\n",
    "    for n, t in enumerate(zip(a1, b1)):\n",
    "        out_after = int(torch.argmax(net(t[1].view(1, 1, 28, 28))))\n",
    "        img_after = t[1].detach().cpu().numpy()\n",
    "        ax[i, n].imshow(img_after.reshape(28, 28), cmap='gray')\n",
    "        ax[i, n].set_title('{}, eps = {:.2f}'.format(out_after, float(i*0.1)))\n",
    "plt.show()"
   ]
  }
 ],
 "metadata": {
  "accelerator": "GPU",
  "colab": {
   "collapsed_sections": [],
   "name": "AttackMNIST.ipynb",
   "provenance": []
  },
  "kernelspec": {
   "display_name": "Python 3",
   "language": "python",
   "name": "python3"
  },
  "language_info": {
   "codemirror_mode": {
    "name": "ipython",
    "version": 3
   },
   "file_extension": ".py",
   "mimetype": "text/x-python",
   "name": "python",
   "nbconvert_exporter": "python",
   "pygments_lexer": "ipython3",
   "version": "3.6.8"
  }
 },
 "nbformat": 4,
 "nbformat_minor": 1
}
