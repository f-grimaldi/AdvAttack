{
 "cells": [
  {
   "cell_type": "markdown",
   "metadata": {
    "colab_type": "text",
    "id": "V_ThfO1k_zCv"
   },
   "source": [
    "## Attacking MNIST Dataset\n",
    "\n",
    "Here we use a custom NN trained on MNIST data to perform *zero order Stochastic Gradient Descent*"
   ]
  },
  {
   "cell_type": "markdown",
   "metadata": {
    "colab_type": "text",
    "id": "IK7-cmYQ_zCw"
   },
   "source": [
    "**1. Set current directory**"
   ]
  },
  {
   "cell_type": "code",
   "execution_count": null,
   "metadata": {},
   "outputs": [],
   "source": [
    "from google.colab import drive\n",
    "drive.mount('/content/gdrive')"
   ]
  },
  {
   "cell_type": "code",
   "execution_count": null,
   "metadata": {
    "colab": {
     "base_uri": "https://localhost:8080/",
     "height": 34
    },
    "colab_type": "code",
    "id": "QOimqTxi_zCy",
    "outputId": "b88ba5e2-fd17-47a0-e144-3767b4bcd538"
   },
   "outputs": [],
   "source": [
    "cd /content/gdrive/My Drive/Colab Notebooks/Adversarial/AdvAttack/src"
   ]
  },
  {
   "cell_type": "code",
   "execution_count": 4,
   "metadata": {
    "colab": {},
    "colab_type": "code",
    "id": "TDBKbuvQ_zC4"
   },
   "outputs": [],
   "source": [
    "import src.loss as customLoss\n",
    "import src.zeroOptim as zeroOptim\n",
    "import src.mnist as mnist\n",
    "\n",
    "import numpy as np\n",
    "import matplotlib.pyplot as plt\n",
    "from sklearn.metrics import accuracy_score\n",
    "from tqdm import tqdm\n",
    "\n",
    "from torchvision import transforms\n",
    "import torch\n",
    "from torch import nn, optim"
   ]
  },
  {
   "cell_type": "markdown",
   "metadata": {
    "colab_type": "text",
    "id": "oFKseUf9_zC9"
   },
   "source": [
    "**2. Retrieve MNIST data**\n",
    "\n",
    "We retrieve the MNIST data. <br>\n",
    "The default *trasnform.compose* method resize the data from (28, 28, 1) to (299, 299, 3) so that it is ready for *InceptionV3*. Here we use the base *transforme.compose*"
   ]
  },
  {
   "cell_type": "code",
   "execution_count": 5,
   "metadata": {
    "colab": {},
    "colab_type": "code",
    "id": "WbG56vdh_zC-"
   },
   "outputs": [],
   "source": [
    "base_transform = transforms.Compose([transforms.ToTensor()])"
   ]
  },
  {
   "cell_type": "code",
   "execution_count": 6,
   "metadata": {
    "colab": {
     "base_uri": "https://localhost:8080/",
     "height": 179
    },
    "colab_type": "code",
    "id": "F0t6Rapb_zDC",
    "outputId": "c55c0b7c-e646-4eea-fdb6-3cdf67433231"
   },
   "outputs": [
    {
     "name": "stdout",
     "output_type": "stream",
     "text": [
      "\n",
      "Batch is a <class 'list'>\n",
      "The 1st element is a <class 'torch.Tensor'> with shape torch.Size([250, 1, 28, 28])\n",
      "The 2nd element is a <class 'torch.Tensor'> with shape torch.Size([250])\n"
     ]
    },
    {
     "data": {
      "image/png": "[encoded data removed]",
      "text/plain": [
       "<Figure size 1440x432 with 5 Axes>"
      ]
     },
     "metadata": {
      "needs_background": "light"
     },
     "output_type": "display_data"
    }
   ],
   "source": [
    "DataLoader = mnist.MNIST(transform=base_transform)\n",
    "train, test = DataLoader.get_dataloader(batch_size=250, num_workers=0)\n",
    "DataLoader.get_info()"
   ]
  },
  {
   "cell_type": "markdown",
   "metadata": {
    "colab_type": "text",
    "id": "2kITbV7w_zDG"
   },
   "source": [
    "**3. Build a custom Neural Network**\n",
    "\n",
    "The network has as feature extractor 6 CNN layer with Dropout and as Classifier 3 Linear layer."
   ]
  },
  {
   "cell_type": "code",
   "execution_count": 7,
   "metadata": {
    "colab": {},
    "colab_type": "code",
    "id": "Y6KaF_iv_zDH"
   },
   "outputs": [],
   "source": [
    "class Net(nn.Module):\n",
    "\n",
    "        def __init__(self):\n",
    "            super().__init__()\n",
    "            \n",
    "            self.FeatureExtractor = nn.Sequential(nn.Conv2d(1, 8, (2, 2), stride=1, padding=1), nn.ReLU(),\n",
    "                                                  nn.Conv2d(8, 16, (2, 2), stride=1, padding=1), nn.ReLU(),\n",
    "                                                  nn.MaxPool2d(kernel_size=(2, 2)),\n",
    "                                                  nn.Conv2d(16, 20, (2, 2), stride=1, padding=1), nn.ReLU(),\n",
    "                                                  nn.Conv2d(20, 24, (2, 2), stride=1, padding=1), nn.ReLU(),\n",
    "                                                  nn.MaxPool2d(kernel_size=(2, 2)))\n",
    "            \n",
    "            self.Classifier = nn.Sequential(nn.Flatten(),\n",
    "                                            nn.Linear(24*8*8, 256), nn.Dropout(0.3), nn.ReLU(),\n",
    "                                            nn.Linear(256, 64), nn.Dropout(0.3), nn.ReLU(),                                          \n",
    "                                            nn.Linear(64, 10))\n",
    "\n",
    "\n",
    "        def forward(self, x):\n",
    "            cnn_x = self.FeatureExtractor(x) \n",
    "            out = self.Classifier(cnn_x)\n",
    "            return out"
   ]
  },
  {
   "cell_type": "code",
   "execution_count": 8,
   "metadata": {
    "colab": {},
    "colab_type": "code",
    "id": "AF_Yuy8D_zDL"
   },
   "outputs": [],
   "source": [
    "def train_step(trainloader, loss_fn, optimizer):\n",
    "         ### 1. Train\n",
    "        net.train()\n",
    "        ### 1.1 Define vars\n",
    "        loss, accuracy = [], []\n",
    "\n",
    "        for batch in tqdm(trainloader):\n",
    "            optimizer.zero_grad()\n",
    "            ### 1.2 Feed the network\n",
    "            X, y = batch[0].to(device), batch[1].to(device)\n",
    "            out = net(X)\n",
    "            ### 1.3 Compute loss and back-propagate\n",
    "            crn_loss = loss_fn(out, y)\n",
    "            crn_loss.backward()\n",
    "            optimizer.step()\n",
    "            ### 1.4 Save results\n",
    "            loss.append(crn_loss.data.item())\n",
    "            accuracy.append(accuracy_score(batch[1].numpy(), np.argmax(out.cpu().detach().numpy(), axis=1)))\n",
    "\n",
    "        return np.mean(loss), np.mean(accuracy)\n",
    "\n",
    "def eval_step(testloader, loss_fn):\n",
    "    ### 1. Eval\n",
    "    net.eval()\n",
    "    ### 1.1 Define vars\n",
    "    loss, accuracy = [], []\n",
    "\n",
    "    with torch.no_grad():\n",
    "        for batch in tqdm(testloader):\n",
    "            ### 1.2 Feed the network\n",
    "            X, y = batch[0].to(device), batch[1].to(device)\n",
    "            out = net(X)\n",
    "            ### 1.3 Compute loss\n",
    "            crn_loss = loss_fn(out, y)\n",
    "            ### 1.4 Save results\n",
    "            loss.append(crn_loss.data.item())\n",
    "            accuracy.append(accuracy_score(batch[1], np.argmax(out.cpu().detach().numpy(), axis=1)))\n",
    "\n",
    "    return np.mean(loss), np.mean(accuracy)"
   ]
  },
  {
   "cell_type": "markdown",
   "metadata": {},
   "source": [
    "**4. Train/Retrieve the network**"
   ]
  },
  {
   "cell_type": "code",
   "execution_count": 11,
   "metadata": {
    "colab": {},
    "colab_type": "code",
    "id": "o9P2UgQz_zDR"
   },
   "outputs": [],
   "source": [
    "device = torch.device('cuda')\n",
    "net = Net().to(device)"
   ]
  },
  {
   "cell_type": "code",
   "execution_count": 12,
   "metadata": {
    "colab": {},
    "colab_type": "code",
    "id": "-beBIgDk_zDW"
   },
   "outputs": [],
   "source": [
    "import time\n",
    "try:\n",
    "    net = torch.load('models/mnistBaseV2.pth')\n",
    "except:\n",
    "    optimizer = optim.Adam(net.parameters(), lr = 0.0001)\n",
    "    loss_fn = nn.CrossEntropyLoss()\n",
    "    for ep in range(5):\n",
    "        loss, acc = train_step(train, loss_fn, optimizer)\n",
    "        time.sleep(0.2)\n",
    "        loss_val, acc_val = eval_step(test, loss_fn)\n",
    "        time.sleep(0.2)\n",
    "        print('Epoch: {}'.format(ep+1), end='\\t')\n",
    "        print('Train loss:{:.4f}\\t Train Accuracy:{:.3f}'.format(loss, acc), end='\\t')\n",
    "        print('Valid loss:{:.4f}\\t Valid Accuracy:{:.3f}'.format(loss_val, acc_val))\n",
    "        time.sleep(0.2)\n",
    "    try:\n",
    "        torch.save(net, 'models/mnistBaseV2.pth')\n",
    "    except:\n",
    "        pass"
   ]
  },
  {
   "cell_type": "markdown",
   "metadata": {
    "colab_type": "text",
    "id": "NWc2Cig6_zDa"
   },
   "source": [
    "### MAIN\n",
    "**5. ADVERSARIAL ATTACK**\n",
    "\n",
    "Here we try to start with a random rightfully classified image from the validation set and we try to use the non-convex usage version of *Zero-order Stochastic Conditional Gradient with Inexact Updates* to modify the image in order to make the network be mistaken.\n",
    "\n",
    "We can set an epsilon as an upper bound for the inifinity norm of our input."
   ]
  },
  {
   "cell_type": "markdown",
   "metadata": {},
   "source": [
    "**Args:**\n",
    "\n",
    "        Name            Type                Description\n",
    "        x:              (torch.tensor)      The variable of our optimization problem. Should be a 3D tensor (img)\n",
    "        v:              (float)             The gaussian smoothing\n",
    "        mk:             (list)              Number of normal vector to generate at every step\n",
    "        gamma_k         (list)              Pseudo learning rate inside ICG at every step\n",
    "        mu_k            (list)              Stopping criterion inside ICG at every step\n",
    "        epsilon:        (float)             The upper bound of the infinity norm\n",
    "        C:              (tuple)             The boundaires of the pixel. Default is (0, 1)\n",
    "        max_steps:      (int)               The maximum number of steps. Default is 100\n",
    "        stop_criterion  (float)             The minimum loss function. Default is 1e-3\n",
    "        verbose:        (int)               Display information or not. Default is 0\n",
    "        additional_out  (bool)              Return also all the x. Default is False\n",
    "        tqdm_disable    (bool)              Disable the tqdm bar. Default is False\n",
    "        max_t           (int)               The maximum number of iteration inside of ICG"
   ]
  },
  {
   "cell_type": "markdown",
   "metadata": {},
   "source": [
    "**Suggested values** <br>\n",
    "*Zeroth-order Nonconvex Stochastic Optimization: Handling Constraints, High-Dimensionality and Saddle-Points* (rishnakumar Balasubramanian†1 and Saeed Ghadimi‡2):\n",
    "\n",
    "$v = \\sqrt{\\frac{1}{2N(d+3)^3}}$, \n",
    "$\\gamma_{k} =2L$,\n",
    "$\\mu_{k} = \\frac{1}{4N}$\n",
    "$m_{k} = 6(d + 5)N$,\n",
    "$\\forall k \\geq 1$\n",
    "\n",
    "where:<br>\n",
    "- *N* is the number of steps <br>\n",
    "- *d* is the dimension of *x* <br>\n",
    "- *L* is the constant of the Lipschitz gradient of f\n",
    "\n",
    "**E.G:** <br>\n",
    "If we set $N = 100$, $L = 1$ and we have an image 28 * 28 ($d = 784$) we have: <br>\n",
    "\n",
    "- $v = 3e-6$\n",
    "- $\\gamma_{k} = 2$\n",
    "- $\\mu_{k} = 0.0025$\n",
    "- $m_{k} = 4734$\n",
    "\n",
    "**N.B** <br>\n",
    "-- TODO -- <br>\n",
    "-- Set real values -- "
   ]
  },
  {
   "cell_type": "code",
   "execution_count": 13,
   "metadata": {},
   "outputs": [
    {
     "data": {
      "image/png": "[encoded data removed]",
      "text/plain": [
       "<Figure size 432x288 with 1 Axes>"
      ]
     },
     "metadata": {
      "needs_background": "light"
     },
     "output_type": "display_data"
    }
   ],
   "source": [
    "### Get an input used as test\n",
    "for batch in test:\n",
    "    X, y = batch[0].to(device), batch[1].to(device)\n",
    "    break\n",
    "\n",
    "net.eval()\n",
    "img = X[3].cpu().numpy()\n",
    "out = nn.Softmax(dim=1)(net(X[3].reshape(1, 1, 28, 28)))\n",
    "plt.imshow(np.transpose(img, (1, 2, 0)).reshape(28, 28), cmap='gray')\n",
    "original_label = torch.argmax(out).item()\n",
    "plt.title('Output label {} with probability {:.3f}'.format(original_label, float(out[0, original_label])))\n",
    "plt.show()"
   ]
  },
  {
   "cell_type": "markdown",
   "metadata": {},
   "source": [
    "**5.1 Specific attack**\n",
    "\n",
    "Here we try to manipulate the input such that it will be misclassified in favor of a *specific* class.\n",
    "\n",
    "*E.g.* <br> \n",
    "We want to try to maximise the probability of classification of neuron *eight*"
   ]
  },
  {
   "cell_type": "code",
   "execution_count": 14,
   "metadata": {},
   "outputs": [
    {
     "name": "stderr",
     "output_type": "stream",
     "text": [
      " 46%|████████████████████████████████████▋                                           | 229/500 [05:29<05:57,  1.32s/it]"
     ]
    },
    {
     "data": {
      "image/png": "[encoded data removed]",
      "text/plain": [
       "<Figure size 1080x360 with 2 Axes>"
      ]
     },
     "metadata": {
      "needs_background": "light"
     },
     "output_type": "display_data"
    }
   ],
   "source": [
    "### Define our custom loss function and call the optimizer\n",
    "adv_loss = customLoss.SpecificSoftmaxMSE(neuron=8, maximise=1)\n",
    "adv_optimizer = zeroOptim.InexactZSCG(net, adv_loss, 'cuda')\n",
    "### Run the optimizer\n",
    "EPOCH = 500\n",
    "x, loss, outs = adv_optimizer.run(X[3], \n",
    "                                  v               =  1, \n",
    "                                  mk              =  [28**2]*EPOCH, \n",
    "                                  gamma_k         =  [1]*EPOCH,\n",
    "                                  mu_k            =  [0.1/(5*EPOCH)]*EPOCH,\n",
    "                                  epsilon         =  0.4, \n",
    "                                  max_steps       =  EPOCH, \n",
    "                                  verbose         =  0, \n",
    "                                  additional_out  =  False,\n",
    "                                  max_t           =  100)\n",
    "\n",
    "### Compute manually last output\n",
    "out = nn.Softmax(dim=1)(net(x.reshape(1, 1, 28, 28)))\n",
    "label = torch.argmax(out).item()\n",
    "img = x.detach().cpu().numpy()\n",
    "\n",
    "### Display results\n",
    "fig, ax = plt.subplots(1, 2, figsize=(15, 5))\n",
    "ax[0].plot(loss)\n",
    "ax[0].set_title('Adversarial loss')\n",
    "ax[0].set_ylabel('Softmax MSELoss')\n",
    "ax[0].set_xlabel('Steps')\n",
    "ax[0].grid()\n",
    "ax[1].imshow(img.reshape(28, 28), cmap='gray')\n",
    "ax[1].set_title('P(F(x, w) = {}) = {:.3f}\\nP(F(x, w) = {}) = {:.3f}'.format(label, float(out[0, label]),\n",
    "                                                                             original_label, float(out[0, original_label])))\n",
    "plt.show()"
   ]
  },
  {
   "cell_type": "markdown",
   "metadata": {},
   "source": [
    "**5.2 General attack**\n",
    "\n",
    "Here we try to manipulate the input such that it will be misclassified in favor of a whatever class. Usually its easier and we deal with the problem by minimizing the probability of the true class  \n",
    "\n",
    "*E.g.* <br> \n",
    "We want to try to manimize the probability of classification of neuron *zero*"
   ]
  },
  {
   "cell_type": "code",
   "execution_count": 12,
   "metadata": {},
   "outputs": [
    {
     "name": "stderr",
     "output_type": "stream",
     "text": [
      "\n",
      "  0%|                                                                                          | 0/100 [00:00<?, ?it/s]\u001b[A\n",
      "  1%|▊                                                                                 | 1/100 [00:00<00:42,  2.33it/s]\u001b[A\n",
      "  2%|█▋                                                                                | 2/100 [00:00<00:40,  2.41it/s]\u001b[A\n",
      "  3%|██▍                                                                               | 3/100 [00:01<00:40,  2.41it/s]\u001b[A\n",
      "  4%|███▎                                                                              | 4/100 [00:01<00:39,  2.40it/s]\u001b[A\n",
      "  5%|████                                                                              | 5/100 [00:02<00:40,  2.37it/s]\u001b[A\n",
      "  6%|████▉                                                                             | 6/100 [00:02<00:39,  2.38it/s]\u001b[A\n",
      "  7%|█████▋                                                                            | 7/100 [00:02<00:38,  2.43it/s]\u001b[A\n",
      "  8%|██████▌                                                                           | 8/100 [00:03<00:37,  2.46it/s]\u001b[A\n",
      "  9%|███████▍                                                                          | 9/100 [00:03<00:36,  2.47it/s]\u001b[A\n",
      " 10%|████████                                                                         | 10/100 [00:04<00:35,  2.54it/s]\u001b[A\n",
      " 11%|████████▉                                                                        | 11/100 [00:04<00:36,  2.47it/s]\u001b[A\n",
      " 12%|█████████▋                                                                       | 12/100 [00:04<00:34,  2.52it/s]\u001b[A\n",
      " 13%|██████████▌                                                                      | 13/100 [00:05<00:33,  2.56it/s]\u001b[A\n",
      " 14%|███████████▎                                                                     | 14/100 [00:05<00:33,  2.58it/s]\u001b[A\n",
      " 15%|████████████▏                                                                    | 15/100 [00:06<00:33,  2.57it/s]\u001b[A"
     ]
    },
    {
     "data": {
      "image/png": "[encoded data removed]",
      "text/plain": [
       "<Figure size 1080x360 with 2 Axes>"
      ]
     },
     "metadata": {
      "needs_background": "light"
     },
     "output_type": "display_data"
    }
   ],
   "source": [
    "### Define our custom loss function and call the optimizer\n",
    "adv_loss = customLoss.SpecificSoftmaxMSE(neuron=0, maximise=0)\n",
    "adv_optimizer = zeroOptim.InexactZSCG(net, adv_loss, 'cuda')\n",
    "### Run the optimizer\n",
    "EPOCH = 100\n",
    "x, loss, outs = adv_optimizer.run(X[3], \n",
    "                                  v               =  0.1, \n",
    "                                  mk              =  [28**2]*EPOCH, \n",
    "                                  gamma_k         =  [0.5]*EPOCH,\n",
    "                                  mu_k            =  [1/(5*EPOCH)]*EPOCH,\n",
    "                                  epsilon         =  0.4, \n",
    "                                  max_steps       =  EPOCH, \n",
    "                                  verbose         =  0, \n",
    "                                  additional_out  =  False,\n",
    "                                  max_t           =  100)\n",
    "\n",
    "### Compute manually last output\n",
    "out = nn.Softmax(dim=1)(net(x.reshape(1, 1, 28, 28)))\n",
    "label = torch.argmax(out).item()\n",
    "img = x.detach().cpu().numpy()\n",
    "\n",
    "### Display results\n",
    "fig, ax = plt.subplots(1, 2, figsize=(15, 5))\n",
    "ax[0].plot(loss)\n",
    "ax[0].set_title('Adversarial loss')\n",
    "ax[0].set_ylabel('Softmax MSELoss')\n",
    "ax[0].set_xlabel('Steps')\n",
    "ax[0].grid()\n",
    "ax[1].imshow(img.reshape(28, 28), cmap='gray')\n",
    "ax[1].set_title('P(F(x, w) = {}) = {:.3f}\\nP(F(x, w) = {}) = {:.3f}'.format(label, float(out[0, label]),\n",
    "                                                                             original_label, float(out[0, original_label])))\n",
    "plt.show()"
   ]
  },
  {
   "cell_type": "markdown",
   "metadata": {
    "colab_type": "text",
    "id": "AQF0fx_B5rDS"
   },
   "source": [
    "**Success rate at different infinity norm upper bound**\n",
    "\n",
    "Here we can see how the algorithm perform when it goes from stricter to less strict epsilon with the first 10 validation images."
   ]
  },
  {
   "cell_type": "markdown",
   "metadata": {},
   "source": [
    "**BETTER ON COLAB**"
   ]
  },
  {
   "cell_type": "code",
   "execution_count": null,
   "metadata": {
    "colab": {
     "base_uri": "https://localhost:8080/",
     "height": 50
    },
    "colab_type": "code",
    "id": "DlHPALAKDvys",
    "outputId": "fb18d80a-ab03-4849-d9b4-1d614bf6e848"
   },
   "outputs": [],
   "source": [
    "device = torch.device('cuda')\n",
    "EPOCH = 100\n",
    "def evaluate(e, n=7, mk=28**2, ak=0.8, v=0.2):\n",
    "    X_test = X[:n, ...]\n",
    "    success = []\n",
    "    xs = []\n",
    "    for x in tqdm(X_test):\n",
    "        y_before = int(torch.argmax(net(x.to(device).view(1, 1, 28, 28))))\n",
    "        loss = customLoss.SpecificSoftmaxMSE(neuron=y_before, maximise=0, dim=1)\n",
    "        ADVoptim = zeroOptim.InexactZSCG(model=net, loss=loss, device=device)\n",
    "        x_out, loss_curve, out =  ADVoptim.run(x, \n",
    "                                               v=v, \n",
    "                                               mk=[mk]*EPOCH, \n",
    "                                               ak=[ak]*EPOCH,\n",
    "                                               epsilon=e, \n",
    "                                               max_steps=EPOCH, \n",
    "                                               verbose=0,\n",
    "                                               tqdm_disabled=True)\n",
    "\n",
    "        if int(torch.argmax(net(x_out.reshape(1, 1, 28, 28))).item()) != y_before:\n",
    "            success.append(1)\n",
    "        else:\n",
    "            success.append(0)\n",
    "        xs.append(x_out)\n",
    "    return success, xs\n",
    "\n",
    "net = net.to(device)\n",
    "epsilon = 0.25\n",
    "success_list, out_list = evaluate(epsilon, ak=0.9)\n",
    "print('Success rate with epsilon = {}:\\t{:.1f}%'.format(epsilon, 100*np.sum(success_list)/len(success_list)))"
   ]
  },
  {
   "cell_type": "code",
   "execution_count": null,
   "metadata": {
    "colab": {
     "base_uri": "https://localhost:8080/",
     "height": 1000
    },
    "colab_type": "code",
    "id": "eBjVwJho1f77",
    "outputId": "e8318143-e54e-48ba-eda0-846941944a55"
   },
   "outputs": [],
   "source": [
    "fig, ax = plt.subplots(9, 7, figsize = (30, 31))\n",
    "for n in range(7):\n",
    "    out_before = int(torch.argmax(net(X[n, ...].to(device).view(1, 1, 28, 28))))\n",
    "    img_before = X[n, ...].detach().cpu().numpy()\n",
    "    ax[0, n].imshow(img_before.reshape(28, 28), cmap='gray')\n",
    "    ax[0, n].set_title(out_before)\n",
    "for i in range(1, 9):\n",
    "    a1, b1 = evaluate(0.1*i)\n",
    "    for n, t in enumerate(zip(a1, b1)):\n",
    "        out_after = int(torch.argmax(net(t[1].view(1, 1, 28, 28))))\n",
    "        img_after = t[1].detach().cpu().numpy()\n",
    "        ax[i, n].imshow(img_after.reshape(28, 28), cmap='gray')\n",
    "        ax[i, n].set_title('{}, eps = {:.2f}'.format(out_after, float(i*0.1)))\n",
    "plt.show()"
   ]
  }
 ],
 "metadata": {
  "accelerator": "GPU",
  "colab": {
   "collapsed_sections": [],
   "name": "AttackMNIST.ipynb",
   "provenance": []
  },
  "kernelspec": {
   "display_name": "Python 3",
   "language": "python",
   "name": "python3"
  },
  "language_info": {
   "codemirror_mode": {
    "name": "ipython",
    "version": 3
   },
   "file_extension": ".py",
   "mimetype": "text/x-python",
   "name": "python",
   "nbconvert_exporter": "python",
   "pygments_lexer": "ipython3",
   "version": "3.6.8"
  }
 },
 "nbformat": 4,
 "nbformat_minor": 1
}
