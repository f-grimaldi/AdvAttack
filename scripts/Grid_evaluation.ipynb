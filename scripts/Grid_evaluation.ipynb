{
  "nbformat": 4,
  "nbformat_minor": 0,
  "metadata": {
    "colab": {
      "name": "Grid_evaluation.ipynb",
      "provenance": []
    },
    "kernelspec": {
      "name": "python3",
      "display_name": "Python 3"
    },
    "accelerator": "GPU"
  },
  "cells": [
    {
      "cell_type": "markdown",
      "metadata": {
        "id": "qV-Pvw1y_t2v",
        "colab_type": "text"
      },
      "source": [
        "# GridSearch\n",
        "\n",
        "Perform a grid search given a target optimizer, a target loss, a target model/dataset and a target L-norm."
      ]
    },
    {
      "cell_type": "markdown",
      "metadata": {
        "id": "RbhcYPsD_vxL",
        "colab_type": "text"
      },
      "source": [
        "**1. Setting Colab enviroments**"
      ]
    },
    {
      "cell_type": "code",
      "metadata": {
        "id": "ohhYmEPd_YfH",
        "colab_type": "code",
        "outputId": "d9b57110-ea13-412b-b715-595d23602e24",
        "colab": {
          "base_uri": "https://localhost:8080/",
          "height": 34
        }
      },
      "source": [
        "from google.colab import drive\n",
        "drive.mount('/content/gdrive')"
      ],
      "execution_count": 1,
      "outputs": [
        {
          "output_type": "stream",
          "text": [
            "Drive already mounted at /content/gdrive; to attempt to forcibly remount, call drive.mount(\"/content/gdrive\", force_remount=True).\n"
          ],
          "name": "stdout"
        }
      ]
    },
    {
      "cell_type": "code",
      "metadata": {
        "id": "_ijBkFJ3IOSU",
        "colab_type": "code",
        "colab": {
          "base_uri": "https://localhost:8080/",
          "height": 34
        },
        "outputId": "9bf74d27-b3d8-4a42-f80f-3fce297a1b54"
      },
      "source": [
        "import subprocess\n",
        "import sys\n",
        "import os\n",
        "from tqdm import tqdm\n",
        "os.getcwd()"
      ],
      "execution_count": 2,
      "outputs": [
        {
          "output_type": "execute_result",
          "data": {
            "text/plain": [
              "'/content'"
            ]
          },
          "metadata": {
            "tags": []
          },
          "execution_count": 2
        }
      ]
    },
    {
      "cell_type": "code",
      "metadata": {
        "id": "0BjNaSJLMYoc",
        "colab_type": "code",
        "outputId": "f308a3a1-12a4-4776-d7a4-a61e0f3a68e1",
        "colab": {
          "base_uri": "https://localhost:8080/",
          "height": 34
        }
      },
      "source": [
        "cd /content/gdrive/My Drive/Colab Notebooks/Adversarial/AdvAttack/scripts"
      ],
      "execution_count": 3,
      "outputs": [
        {
          "output_type": "stream",
          "text": [
            "/content/gdrive/My Drive/Colab Notebooks/Adversarial/AdvAttack/scripts\n"
          ],
          "name": "stdout"
        }
      ]
    },
    {
      "cell_type": "code",
      "metadata": {
        "id": "PTFGlNnCNA8U",
        "colab_type": "code",
        "colab": {
          "base_uri": "https://localhost:8080/",
          "height": 50
        },
        "outputId": "46418242-7231-4b76-a67a-fc88e5057bed"
      },
      "source": [
        "print(os.getcwd())\n",
        "print(os.listdir())"
      ],
      "execution_count": 4,
      "outputs": [
        {
          "output_type": "stream",
          "text": [
            "/content/gdrive/My Drive/Colab Notebooks/Adversarial/AdvAttack/scripts\n",
            "['test.py', 'evaluation.py', 'Grid_evaluation.ipynb']\n"
          ],
          "name": "stdout"
        }
      ]
    },
    {
      "cell_type": "markdown",
      "metadata": {
        "id": "5_avIhj9_gzc",
        "colab_type": "text"
      },
      "source": [
        "**2. Define params**"
      ]
    },
    {
      "cell_type": "code",
      "metadata": {
        "id": "9LtrUWyB_gkb",
        "colab_type": "code",
        "colab": {}
      },
      "source": [
        "OPTIM = 'classic'\n",
        "LOSS = '-1'\n",
        "DATA = 'cifar10'\n",
        "EPSILON = '0.01'\n",
        "MAXIMISE = '0'\n",
        "N_EXAMPLE = '100'\n",
        "TQDM = '1'\n",
        "\n",
        "\n",
        "MAX_BATCH_SIZE = 4000\n",
        "\n",
        "params_list = [ \n",
        "               {'n_gradient':  500},\n",
        "               {'n_gradient':  1000},\n",
        "               {'n_gradient':  2000},\n",
        "               {'n_gradient':  4000},\n",
        "               {'n_gradient':  8000},\n",
        "               {'n_gradient':  16000},\n",
        "               ]"
      ],
      "execution_count": 0,
      "outputs": []
    },
    {
      "cell_type": "markdown",
      "metadata": {
        "id": "JVV9k2Ag_NlH",
        "colab_type": "text"
      },
      "source": [
        "**3. Run the evaluation.py script**"
      ]
    },
    {
      "cell_type": "code",
      "metadata": {
        "id": "8fuLXmTHQ6mx",
        "colab_type": "code",
        "colab": {
          "base_uri": "https://localhost:8080/",
          "height": 188
        },
        "outputId": "7ae25047-3f09-4b28-b739-c4257e24de98"
      },
      "source": [
        "for params in tqdm(params_list):\n",
        "    exe_list = ['python', 'evaluation.py', \n",
        "                '--optimizer', OPTIM, \n",
        "                '--data', DATA, \n",
        "                '--epsilon', EPSILON, \n",
        "                '--L_type', LOSS, \n",
        "                '--alpha', '0.2', \n",
        "                '--maximise', MAXIMISE, \n",
        "                '--n_example', N_EXAMPLE,\n",
        "                '--data_batch_size', N_EXAMPLE]\n",
        "\n",
        "    if params['n_gradient'] > MAX_BATCH_SIZE:\n",
        "        exe_list.append('--batch_size')\n",
        "        exe_list.append(str(MAX_BATCH_SIZE))\n",
        "    \n",
        "    for k in params:\n",
        "        exe_list.append('--{}'.format(k))\n",
        "        exe_list.append(str(params[k]))\n",
        "    \n",
        "    print(exe_list)\n",
        "    out = subprocess.run(exe_list, stdout=subprocess.PIPE, stderr=subprocess.PIPE, check=True)"
      ],
      "execution_count": 0,
      "outputs": [
        {
          "output_type": "stream",
          "text": [
            "\r  0%|          | 0/6 [00:00<?, ?it/s]"
          ],
          "name": "stderr"
        },
        {
          "output_type": "stream",
          "text": [
            "['python', 'evaluation.py', '--optimizer', 'classic', '--data', 'cifar10', '--epsilon', '0.01', '--L_type', '-1', '--alpha', '0.2', '--maximise', '0', '--n_example', '100', '--data_batch_size', '100', '--n_gradient', '500']\n"
          ],
          "name": "stdout"
        },
        {
          "output_type": "stream",
          "text": [
            "\r 17%|█▋        | 1/6 [13:40<1:08:24, 820.93s/it]"
          ],
          "name": "stderr"
        },
        {
          "output_type": "stream",
          "text": [
            "['python', 'evaluation.py', '--optimizer', 'classic', '--data', 'cifar10', '--epsilon', '0.01', '--L_type', '-1', '--alpha', '0.2', '--maximise', '0', '--n_example', '100', '--data_batch_size', '100', '--n_gradient', '1000']\n"
          ],
          "name": "stdout"
        },
        {
          "output_type": "stream",
          "text": [
            "\r 33%|███▎      | 2/6 [32:29<1:00:53, 913.33s/it]"
          ],
          "name": "stderr"
        },
        {
          "output_type": "stream",
          "text": [
            "['python', 'evaluation.py', '--optimizer', 'classic', '--data', 'cifar10', '--epsilon', '0.01', '--L_type', '-1', '--alpha', '0.2', '--maximise', '0', '--n_example', '100', '--data_batch_size', '100', '--n_gradient', '2000']\n"
          ],
          "name": "stdout"
        },
        {
          "output_type": "stream",
          "text": [
            "\r 50%|█████     | 3/6 [57:01<54:02, 1080.97s/it] "
          ],
          "name": "stderr"
        },
        {
          "output_type": "stream",
          "text": [
            "['python', 'evaluation.py', '--optimizer', 'classic', '--data', 'cifar10', '--epsilon', '0.01', '--L_type', '-1', '--alpha', '0.2', '--maximise', '0', '--n_example', '100', '--data_batch_size', '100', '--n_gradient', '4000']\n"
          ],
          "name": "stdout"
        },
        {
          "output_type": "stream",
          "text": [
            "\r 67%|██████▋   | 4/6 [1:31:31<45:55, 1377.64s/it]"
          ],
          "name": "stderr"
        },
        {
          "output_type": "stream",
          "text": [
            "['python', 'evaluation.py', '--optimizer', 'classic', '--data', 'cifar10', '--epsilon', '0.01', '--L_type', '-1', '--alpha', '0.2', '--maximise', '0', '--n_example', '100', '--data_batch_size', '100', '--batch_size', '4000', '--n_gradient', '8000']\n"
          ],
          "name": "stdout"
        }
      ]
    },
    {
      "cell_type": "markdown",
      "metadata": {
        "id": "RXK1JHTt_hS1",
        "colab_type": "text"
      },
      "source": [
        "**4. See results**\n"
      ]
    },
    {
      "cell_type": "code",
      "metadata": {
        "id": "t6qAOe8TOtri",
        "colab_type": "code",
        "colab": {}
      },
      "source": [
        "import json\n",
        "import pandas as pd\n",
        "path = '../logs/evaluation_logs'\n",
        "\n",
        "r = []\n",
        "for file_name in os.listdir(path):\n",
        "    with open('{}/{}'.format(path, file_name), 'r') as file:\n",
        "        logs = json.load(file)\n",
        "        if logs['All_config_args']['epsilon'] ==  float(EPSILON) and logs['Dataset'] ==  DATA and logs['L norm'] ==  int(LOSS) and logs['Optimizer'] ==  OPTIM and logs['Target attack'] == 0:\n",
        "            print(logs)\n",
        "            a, n, v = logs['All_config_args']['alpha'], logs['All_config_args']['n_gradient'], logs['All_config_args']['v']\n",
        "            s, t = logs['Results']['Success'], logs['Results']['Mean time']\n",
        "            r.append([s, t, n, a, v])\n",
        "\n",
        "\n",
        "df = pd.DataFrame(r)\n",
        "df.columns = ['Succes Rate', 'Time per attack', '# Gradient Estimation', 'Alpha', 'Gaussian Smoothing']\n",
        "\n",
        "res_path = '../results/{}_{}_untarget_{}.csv'.format(OPTIM, DATA, str(EPSILON)[-2:])\n",
        "print('Results saved at {}'.format(res_path))\n",
        "df.to_csv(res_path)\n",
        "df.sort_values(by=['Succes Rate', 'Time per attack'], axis=0, ascending=False)"
      ],
      "execution_count": 0,
      "outputs": []
    }
  ]
}