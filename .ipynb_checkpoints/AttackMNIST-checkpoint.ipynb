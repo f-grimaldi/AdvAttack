{
 "cells": [
  {
   "cell_type": "markdown",
   "metadata": {
    "colab_type": "text",
    "id": "V_ThfO1k_zCv"
   },
   "source": [
    "**Attacking MNIST Dataset**\n",
    "\n",
    "Here we use a custom NN trained on MNIST data to perform *zero order Stochastic Gradient Descent*"
   ]
  },
  {
   "cell_type": "markdown",
   "metadata": {
    "colab_type": "text",
    "id": "IK7-cmYQ_zCw"
   },
   "source": [
    "**Set current directory**"
   ]
  },
  {
   "cell_type": "code",
   "execution_count": null,
   "metadata": {},
   "outputs": [],
   "source": [
    "from google.colab import drive\n",
    "drive.mount('/content/gdrive')"
   ]
  },
  {
   "cell_type": "code",
   "execution_count": null,
   "metadata": {
    "colab": {
     "base_uri": "https://localhost:8080/",
     "height": 34
    },
    "colab_type": "code",
    "id": "QOimqTxi_zCy",
    "outputId": "b88ba5e2-fd17-47a0-e144-3767b4bcd538"
   },
   "outputs": [],
   "source": [
    "cd /content/gdrive/My Drive/Colab Notebooks/Adversarial/AdvAttack/src"
   ]
  },
  {
   "cell_type": "code",
   "execution_count": 1,
   "metadata": {},
   "outputs": [
    {
     "name": "stdout",
     "output_type": "stream",
     "text": [
      "C:\\Users\\fgrim\\Desktop\\AdvAttack\\src\n"
     ]
    }
   ],
   "source": [
    "cd src"
   ]
  },
  {
   "cell_type": "code",
   "execution_count": 2,
   "metadata": {
    "colab": {},
    "colab_type": "code",
    "id": "TDBKbuvQ_zC4"
   },
   "outputs": [],
   "source": [
    "import loss as customLoss\n",
    "import zeroOptim \n",
    "import mnist\n",
    "\n",
    "import numpy as np\n",
    "import matplotlib.pyplot as plt\n",
    "from sklearn.metrics import accuracy_score\n",
    "from tqdm import tqdm\n",
    "\n",
    "from torchvision import transforms\n",
    "import torch\n",
    "from torch import nn, optim"
   ]
  },
  {
   "cell_type": "markdown",
   "metadata": {
    "colab_type": "text",
    "id": "oFKseUf9_zC9"
   },
   "source": [
    "**Retrieve MNIST data**\n",
    "\n",
    "We retrieve the MNIST data. <br>\n",
    "The default *trasnform.compose* method resize the data from (28, 28, 1) to (299, 299, 3) so that it is ready for *InceptionV3*. Here we use the base *transforme.compose*"
   ]
  },
  {
   "cell_type": "code",
   "execution_count": 3,
   "metadata": {
    "colab": {},
    "colab_type": "code",
    "id": "WbG56vdh_zC-"
   },
   "outputs": [],
   "source": [
    "base_transform = transforms.Compose([transforms.ToTensor()])"
   ]
  },
  {
   "cell_type": "code",
   "execution_count": 4,
   "metadata": {
    "colab": {
     "base_uri": "https://localhost:8080/",
     "height": 179
    },
    "colab_type": "code",
    "id": "F0t6Rapb_zDC",
    "outputId": "c55c0b7c-e646-4eea-fdb6-3cdf67433231"
   },
   "outputs": [
    {
     "name": "stdout",
     "output_type": "stream",
     "text": [
      "\n",
      "Batch is a <class 'list'>\n",
      "The 1st element is a <class 'torch.Tensor'> with shape torch.Size([250, 1, 28, 28])\n",
      "The 2nd element is a <class 'torch.Tensor'> with shape torch.Size([250])\n"
     ]
    },
    {
     "data": {
      "image/png": "[encoded data removed]",
      "text/plain": [
       "<Figure size 1440x432 with 5 Axes>"
      ]
     },
     "metadata": {
      "needs_background": "light"
     },
     "output_type": "display_data"
    }
   ],
   "source": [
    "DataLoader = mnist.MNIST(transform=base_transform)\n",
    "train, test = DataLoader.get_dataloader(batch_size=250, num_workers=0)\n",
    "DataLoader.get_info()"
   ]
  },
  {
   "cell_type": "markdown",
   "metadata": {
    "colab_type": "text",
    "id": "2kITbV7w_zDG"
   },
   "source": [
    "**Build a custom Neural Network**\n",
    "\n",
    "The network has as feature extractor 6 CNN layer with Dropout and as Classifier 3 Linear layer."
   ]
  },
  {
   "cell_type": "code",
   "execution_count": 5,
   "metadata": {
    "colab": {},
    "colab_type": "code",
    "id": "Y6KaF_iv_zDH"
   },
   "outputs": [],
   "source": [
    "class Net(nn.Module):\n",
    "\n",
    "        def __init__(self):\n",
    "            super().__init__()\n",
    "            \n",
    "            self.FeatureExtractor = nn.Sequential(nn.Conv2d(1, 8, (2, 2), stride=1, padding=1), nn.ReLU(),\n",
    "                                                  nn.Conv2d(8, 16, (2, 2), stride=1, padding=1), nn.ReLU(),\n",
    "                                                  nn.MaxPool2d(kernel_size=(2, 2)),\n",
    "                                                  nn.Conv2d(16, 20, (2, 2), stride=1, padding=1), nn.ReLU(),\n",
    "                                                  nn.Conv2d(20, 24, (2, 2), stride=1, padding=1), nn.ReLU(),\n",
    "                                                  nn.MaxPool2d(kernel_size=(2, 2)))\n",
    "            \n",
    "            self.Classifier = nn.Sequential(nn.Flatten(),\n",
    "                                            nn.Linear(24*8*8, 256), nn.Dropout(0.3), nn.ReLU(),\n",
    "                                            nn.Linear(256, 64), nn.Dropout(0.3), nn.ReLU(),                                          \n",
    "                                            nn.Linear(64, 10))\n",
    "\n",
    "\n",
    "        def forward(self, x):\n",
    "            cnn_x = self.FeatureExtractor(x) \n",
    "            out = self.Classifier(cnn_x)\n",
    "            return out"
   ]
  },
  {
   "cell_type": "code",
   "execution_count": 6,
   "metadata": {
    "colab": {},
    "colab_type": "code",
    "id": "AF_Yuy8D_zDL"
   },
   "outputs": [],
   "source": [
    "def train_step(trainloader, loss_fn, optimizer):\n",
    "         ### 1. Train\n",
    "        net.train()\n",
    "        ### 1.1 Define vars\n",
    "        loss, accuracy = [], []\n",
    "\n",
    "        for batch in tqdm(trainloader):\n",
    "            optimizer.zero_grad()\n",
    "            ### 1.2 Feed the network\n",
    "            X, y = batch[0].to(device), batch[1].to(device)\n",
    "            out = net(X)\n",
    "            ### 1.3 Compute loss and back-propagate\n",
    "            crn_loss = loss_fn(out, y)\n",
    "            crn_loss.backward()\n",
    "            optimizer.step()\n",
    "            ### 1.4 Save results\n",
    "            loss.append(crn_loss.data.item())\n",
    "            accuracy.append(accuracy_score(batch[1].numpy(), np.argmax(out.cpu().detach().numpy(), axis=1)))\n",
    "\n",
    "        return np.mean(loss), np.mean(accuracy)\n",
    "\n",
    "def eval_step(testloader, loss_fn):\n",
    "    ### 1. Eval\n",
    "    net.eval()\n",
    "    ### 1.1 Define vars\n",
    "    loss, accuracy = [], []\n",
    "\n",
    "    with torch.no_grad():\n",
    "        for batch in tqdm(testloader):\n",
    "            ### 1.2 Feed the network\n",
    "            X, y = batch[0].to(device), batch[1].to(device)\n",
    "            out = net(X)\n",
    "            ### 1.3 Compute loss\n",
    "            crn_loss = loss_fn(out, y)\n",
    "            ### 1.4 Save results\n",
    "            loss.append(crn_loss.data.item())\n",
    "            accuracy.append(accuracy_score(batch[1], np.argmax(out.cpu().detach().numpy(), axis=1)))\n",
    "\n",
    "    return np.mean(loss), np.mean(accuracy)"
   ]
  },
  {
   "cell_type": "code",
   "execution_count": 7,
   "metadata": {
    "colab": {},
    "colab_type": "code",
    "id": "o9P2UgQz_zDR"
   },
   "outputs": [],
   "source": [
    "device = torch.device('cuda')\n",
    "net = Net().to(device)"
   ]
  },
  {
   "cell_type": "code",
   "execution_count": 8,
   "metadata": {
    "colab": {},
    "colab_type": "code",
    "id": "-beBIgDk_zDW"
   },
   "outputs": [],
   "source": [
    "import time\n",
    "try:\n",
    "    net = torch.load('../models/mnistBaseV2.pth')\n",
    "except:\n",
    "    optimizer = optim.Adam(net.parameters(), lr = 0.0001)\n",
    "    loss_fn = nn.CrossEntropyLoss()\n",
    "    for ep in range(5):\n",
    "        loss, acc = train_step(train, loss_fn, optimizer)\n",
    "        time.sleep(0.2)\n",
    "        loss_val, acc_val = eval_step(test, loss_fn)\n",
    "        time.sleep(0.2)\n",
    "        print('Epoch: {}'.format(ep+1), end='\\t')\n",
    "        print('Train loss:{:.4f}\\t Train Accuracy:{:.3f}'.format(loss, acc), end='\\t')\n",
    "        print('Valid loss:{:.4f}\\t Valid Accuracy:{:.3f}'.format(loss_val, acc_val))\n",
    "        time.sleep(0.2)\n",
    "    try:\n",
    "        torch.save(net, '../models/mnistBaseV2.pth')\n",
    "    except:\n",
    "        pass"
   ]
  },
  {
   "cell_type": "markdown",
   "metadata": {
    "colab_type": "text",
    "id": "NWc2Cig6_zDa"
   },
   "source": [
    "**Attack the network**\n",
    "\n",
    "Here we try to start with a random rightfully classified image from the validation set and we try to use *zero order Stochastic Gradient Descent* to modify the image in order to make the network be mistaken.\n",
    "\n",
    "We can set an epsilon as an upper bound for the inifinity norm of our input."
   ]
  },
  {
   "cell_type": "code",
   "execution_count": 9,
   "metadata": {
    "colab": {
     "base_uri": "https://localhost:8080/",
     "height": 281
    },
    "colab_type": "code",
    "id": "kNysTBHo_zDb",
    "outputId": "80dea322-afcc-4f39-8b00-d7ea84bf8859"
   },
   "outputs": [
    {
     "data": {
      "image/png": "[encoded data removed]",
      "text/plain": [
       "<Figure size 432x288 with 1 Axes>"
      ]
     },
     "metadata": {
      "needs_background": "light"
     },
     "output_type": "display_data"
    }
   ],
   "source": [
    "for batch in test:\n",
    "    X, y = batch[0].to(device), batch[1].to(device)\n",
    "    break\n",
    "\n",
    "net.eval()\n",
    "img = X[3].cpu().numpy()\n",
    "out = nn.Softmax(dim=1)(net(X[3].reshape(1, 1, 28, 28)))\n",
    "plt.imshow(np.transpose(img, (1, 2, 0)).reshape(28, 28), cmap='gray')\n",
    "original_label = torch.argmax(out).item()\n",
    "plt.title('Output label {} with probability {:.3f}'.format(original_label, float(out[0, original_label])))\n",
    "plt.show()"
   ]
  },
  {
   "cell_type": "code",
   "execution_count": 10,
   "metadata": {
    "colab": {
     "base_uri": "https://localhost:8080/",
     "height": 382
    },
    "colab_type": "code",
    "id": "lfizJe6W_zDg",
    "outputId": "6a77e35e-e00e-458c-d320-9f2a293c8af0",
    "scrolled": false
   },
   "outputs": [
    {
     "name": "stderr",
     "output_type": "stream",
     "text": [
      "  1%|▋                                                                                | 8/1000 [00:00<01:17, 12.73it/s]\n"
     ]
    },
    {
     "data": {
      "image/png": "[encoded data removed]",
      "text/plain": [
       "<Figure size 1080x360 with 2 Axes>"
      ]
     },
     "metadata": {
      "needs_background": "light"
     },
     "output_type": "display_data"
    }
   ],
   "source": [
    "### Define our custom loss function and call the optimizer\n",
    "adv_loss = customLoss.SpecificSoftmaxMSE(neuron=0, y_true=0)\n",
    "adv_optimizer = zeroOptim.ZeroSGD(net, adv_loss, 'cuda')\n",
    "### Run the optimizer\n",
    "EPOCH = 1000\n",
    "x, loss, outs = adv_optimizer.run(X[3], \n",
    "                                  v=0.2, \n",
    "                                  mk=[600]*EPOCH, \n",
    "                                  ak=[0.8]*EPOCH,\n",
    "                                  stop_criterion = 1e-4, \n",
    "                                  epsilon=0.35, \n",
    "                                  max_steps=EPOCH, \n",
    "                                  verbose=0, \n",
    "                                  additional_out = False)\n",
    "\n",
    "out = nn.Softmax(dim=1)(net(x.reshape(1, 1, 28, 28)))\n",
    "label = torch.argmax(out).item()\n",
    "img = x.detach().cpu().numpy()\n",
    "\n",
    "### Display results\n",
    "fig, ax = plt.subplots(1, 2, figsize=(15, 5))\n",
    "ax[0].plot(loss)\n",
    "ax[0].set_title('Adversarial loss')\n",
    "ax[0].set_ylabel('MSELoss with target 0')\n",
    "ax[0].set_xlabel('Steps')\n",
    "ax[0].grid()\n",
    "ax[1].imshow(img.reshape(28, 28), cmap='gray')\n",
    "ax[1].set_title('Output label {} with probability {:.3f}\\nOutput label {} with probability {:.3f}'.format(label, float(out[0, label]), original_label, float(out[0, original_label])))\n",
    "plt.show()"
   ]
  },
  {
   "cell_type": "markdown",
   "metadata": {
    "colab_type": "text",
    "id": "YqCyjTC0_zDk"
   },
   "source": [
    "**Random start**\n",
    "\n",
    "If before we started with a validation example, now we can try to create our random input and transform it in order to be classified as a desired number (e.g. 1).\n",
    "\n",
    "We just change the loss having as target neuron 1 and as target output 1 (maximum probability). "
   ]
  },
  {
   "cell_type": "code",
   "execution_count": 11,
   "metadata": {
    "colab": {
     "base_uri": "https://localhost:8080/",
     "height": 367
    },
    "colab_type": "code",
    "id": "8HEJ3azv_zDl",
    "outputId": "24e38ee0-f36c-4d99-e35a-0527dfcbbaaf"
   },
   "outputs": [
    {
     "name": "stderr",
     "output_type": "stream",
     "text": [
      " 40%|███████████████████████████████▉                                                 | 79/200 [00:03<00:06, 19.78it/s]\n"
     ]
    },
    {
     "data": {
      "image/png": "[encoded data removed]",
      "text/plain": [
       "<Figure size 1080x360 with 2 Axes>"
      ]
     },
     "metadata": {
      "needs_background": "light"
     },
     "output_type": "display_data"
    }
   ],
   "source": [
    "x = torch.randn(1, 28, 28)\n",
    "### \n",
    "adv_loss = customLoss.SpecificSoftmaxMSE(neuron=1, y_true=1)\n",
    "adv_optimizer = zeroOptim.ZeroSGD(net, adv_loss, 'cuda')\n",
    "### Run the optimizer\n",
    "### Run the optimizer\n",
    "EPOCH = 200\n",
    "x, loss, outs = adv_optimizer.run(x, \n",
    "                                  v=1, \n",
    "                                  mk=[600]*EPOCH, \n",
    "                                  ak=[4]*EPOCH,\n",
    "                                  stop_criterion = 1e-6, \n",
    "                                  epsilon= 0.6, \n",
    "                                  max_steps=EPOCH, \n",
    "                                  verbose=0)\n",
    "\n",
    "out = nn.Softmax(dim=1)(net(x.reshape(1, 1, 28, 28)))\n",
    "label = torch.argmax(out).item()\n",
    "img = x.detach().cpu().numpy()\n",
    "\n",
    "### Display results\n",
    "fig, ax = plt.subplots(1, 2, figsize=(15, 5))\n",
    "ax[0].plot(loss)\n",
    "ax[0].set_title('Adversarial loss')\n",
    "ax[0].set_ylabel('MSELoss with target 0')\n",
    "ax[0].set_xlabel('Steps')\n",
    "ax[0].grid()\n",
    "ax[1].imshow(img.reshape(28, 28), cmap='gray')\n",
    "ax[1].set_title('Output label {} with probability {:.3f}'.format(label, float(out[0, label])))\n",
    "plt.show()"
   ]
  },
  {
   "cell_type": "markdown",
   "metadata": {
    "colab_type": "text",
    "id": "AQF0fx_B5rDS"
   },
   "source": [
    "**Success rate at different infinity norm upper bound**\n",
    "\n",
    "Here we can see how the algorithm perform when it goes from stricter to less strict epsilon with the first 10 validation images."
   ]
  },
  {
   "cell_type": "markdown",
   "metadata": {},
   "source": [
    "**BETTER ON COLAB**"
   ]
  },
  {
   "cell_type": "code",
   "execution_count": 23,
   "metadata": {
    "colab": {
     "base_uri": "https://localhost:8080/",
     "height": 50
    },
    "colab_type": "code",
    "id": "DlHPALAKDvys",
    "outputId": "fb18d80a-ab03-4849-d9b4-1d614bf6e848"
   },
   "outputs": [
    {
     "name": "stderr",
     "output_type": "stream",
     "text": [
      "100%|████████████████████████████████████████████████████████████████████████████████████| 7/7 [00:09<00:00,  1.41s/it]"
     ]
    },
    {
     "name": "stdout",
     "output_type": "stream",
     "text": [
      "Success rate with epsilon = 0.2:\t85.7%\n"
     ]
    },
    {
     "name": "stderr",
     "output_type": "stream",
     "text": [
      "\n"
     ]
    }
   ],
   "source": [
    "device = torch.device('cuda')\n",
    "EPOCH = 100\n",
    "def evaluate(e, n=7, mk=28**2, ak=0.8, v=0.2):\n",
    "    X_test = X[:n, ...]\n",
    "    success = []\n",
    "    xs = []\n",
    "    for x in tqdm(X_test):\n",
    "        y_before = int(torch.argmax(net(x.to(device).view(1, 1, 28, 28))))\n",
    "        loss = customLoss.SpecificSoftmaxMSE(neuron=y_before, y_true=0, dim=1)\n",
    "        ADVoptim = zeroOptim.ZeroSGD(model=net, loss=loss, device=device)\n",
    "        x_out, loss_curve, out =  ADVoptim.run(x, \n",
    "                                               v=v, \n",
    "                                               mk=[mk]*EPOCH, \n",
    "                                               ak=[ak]*EPOCH,\n",
    "                                               stop_criterion = 1e-2, \n",
    "                                               epsilon=e, \n",
    "                                               max_steps=EPOCH, \n",
    "                                               verbose=0,\n",
    "                                               tqdm_disable=True)\n",
    "\n",
    "        if int(torch.argmax(net(x_out)).item()) != y_before:\n",
    "            success.append(1)\n",
    "        else:\n",
    "            success.append(0)\n",
    "        xs.append(x_out)\n",
    "    return success, xs\n",
    "\n",
    "net = net.to(device)\n",
    "epsilon = 0.20\n",
    "success_list, out_list = evaluate(epsilon)\n",
    "print('Success rate with epsilon = {}:\\t{:.1f}%'.format(epsilon, 100*np.sum(success_list)/len(success_list)))"
   ]
  },
  {
   "cell_type": "code",
   "execution_count": null,
   "metadata": {
    "colab": {
     "base_uri": "https://localhost:8080/",
     "height": 1000
    },
    "colab_type": "code",
    "id": "eBjVwJho1f77",
    "outputId": "e8318143-e54e-48ba-eda0-846941944a55"
   },
   "outputs": [],
   "source": [
    "fig, ax = plt.subplots(9, 7, figsize = (30, 31))\n",
    "for n in range(7):\n",
    "    out_before = int(torch.argmax(net(X[n, ...].to(device).view(1, 1, 28, 28))))\n",
    "    img_before = X[n, ...].detach().cpu().numpy()\n",
    "    ax[0, n].imshow(img_before.reshape(28, 28), cmap='gray')\n",
    "    ax[0, n].set_title(out_before)\n",
    "for i in range(1, 9):\n",
    "    a1, b1 = evaluate(0.1*i)\n",
    "    for n, t in enumerate(zip(a1, b1)):\n",
    "        out_after = int(torch.argmax(net(t[1])))\n",
    "        img_after = t[1].detach().cpu().numpy()\n",
    "        ax[i, n].imshow(img_after.reshape(28, 28), cmap='gray')\n",
    "        ax[i, n].set_title('{}, eps = {:.2f}'.format(out_after, float(i*0.1)))\n",
    "plt.show()"
   ]
  }
 ],
 "metadata": {
  "accelerator": "GPU",
  "colab": {
   "collapsed_sections": [],
   "name": "AttackMNIST.ipynb",
   "provenance": []
  },
  "kernelspec": {
   "display_name": "Python 3",
   "language": "python",
   "name": "python3"
  },
  "language_info": {
   "codemirror_mode": {
    "name": "ipython",
    "version": 3
   },
   "file_extension": ".py",
   "mimetype": "text/x-python",
   "name": "python",
   "nbconvert_exporter": "python",
   "pygments_lexer": "ipython3",
   "version": "3.6.8"
  }
 },
 "nbformat": 4,
 "nbformat_minor": 1
}
