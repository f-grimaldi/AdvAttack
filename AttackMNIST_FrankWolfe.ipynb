{
 "cells": [
  {
   "cell_type": "markdown",
   "metadata": {
    "colab_type": "text",
    "id": "V_ThfO1k_zCv"
   },
   "source": [
    "## Attacking MNIST Dataset\n",
    "\n",
    "Here we use a custom NN trained on MNIST data to perform *Frank Wolf Black Box Attack*"
   ]
  },
  {
   "cell_type": "markdown",
   "metadata": {},
   "source": [
    "## Environment setup"
   ]
  },
  {
   "cell_type": "code",
   "execution_count": 1,
   "metadata": {
    "colab_type": "text",
    "id": "IK7-cmYQ_zCw"
   },
   "outputs": [],
   "source": [
    "# # Enable this for COLAB execution\n",
    "# \n",
    "# # Dependencies\n",
    "# from google.colab import drive\n",
    "# import sys\n",
    "# import os\n",
    "# \n",
    "# # Mount remote filesystem\n",
    "# drive.mount('/content/gdrive')\n",
    "# # Set working directory\n",
    "# os.chdir('/content/gdrive/path/to/root')"
   ]
  },
  {
   "cell_type": "code",
   "execution_count": 2,
   "metadata": {
    "colab": {},
    "colab_type": "code",
    "id": "TDBKbuvQ_zC4"
   },
   "outputs": [],
   "source": [
    "# import torch\n",
    "# from src.models import MnistNet\n",
    "# from torchvision import transforms\n",
    "# from torch import nn, optim\n",
    "\n",
    "# Common dependencies\n",
    "# from sklearn.metrics import accuracy_score\n",
    "import matplotlib.pyplot as plt\n",
    "from tqdm.notebook import tqdm\n",
    "import numpy as np\n",
    "\n",
    "# Torch dependencies\n",
    "import torch\n",
    "\n",
    "# Custom dependencies\n",
    "from src.loss import ZooLoss\n",
    "from src.FWOptim import FrankWolfe\n",
    "from src.dataset import MNIST\n",
    "from src.models import MnistNet\n",
    "\n",
    "# Set plotting mode\n",
    "%matplotlib inline"
   ]
  },
  {
   "cell_type": "code",
   "execution_count": 3,
   "metadata": {},
   "outputs": [
    {
     "data": {
      "text/plain": [
       "device(type='cuda')"
      ]
     },
     "execution_count": 3,
     "metadata": {},
     "output_type": "execute_result"
    }
   ],
   "source": [
    "# Get cpu device\n",
    "cpu = torch.device('cpu')\n",
    "# Get best device, gpu if available\n",
    "device = torch.device('cuda') if torch.cuda.is_available() else cpu\n",
    "device"
   ]
  },
  {
   "cell_type": "markdown",
   "metadata": {},
   "source": [
    "## Dataset\n",
    "\n",
    "We retrieve the MNIST data. <br>\n",
    "The 'standard' *trasnform.compose* method just convert the data to *torch.Tensor* without any rescaling or normalizzation"
   ]
  },
  {
   "cell_type": "code",
   "execution_count": 4,
   "metadata": {},
   "outputs": [],
   "source": [
    "# Get MNIST dataset with standard transformation\n",
    "mnist = MNIST(transform='standard')\n",
    "# Split dataset in train and test\n",
    "train, test = mnist.get_dataloader(batch_size=250, num_workers=0)"
   ]
  },
  {
   "cell_type": "code",
   "execution_count": 5,
   "metadata": {},
   "outputs": [
    {
     "name": "stdout",
     "output_type": "stream",
     "text": [
      "\n",
      "Batch is a <class 'list'>\n",
      "The 1st element is a <class 'torch.Tensor'> with shape torch.Size([250, 1, 28, 28])\n",
      "The 2nd element is a <class 'torch.Tensor'> with shape torch.Size([250])\n"
     ]
    },
    {
     "data": {
      "image/png": "[encoded data removed]",
      "text/plain": [
       "<Figure size 1440x432 with 5 Axes>"
      ]
     },
     "metadata": {
      "needs_background": "light"
     },
     "output_type": "display_data"
    }
   ],
   "source": [
    "# Get info for train dataset\n",
    "MNIST.get_info(train)"
   ]
  },
  {
   "cell_type": "code",
   "execution_count": 6,
   "metadata": {},
   "outputs": [
    {
     "name": "stdout",
     "output_type": "stream",
     "text": [
      "\n",
      "Batch is a <class 'list'>\n",
      "The 1st element is a <class 'torch.Tensor'> with shape torch.Size([250, 1, 28, 28])\n",
      "The 2nd element is a <class 'torch.Tensor'> with shape torch.Size([250])\n"
     ]
    },
    {
     "data": {
      "image/png": "[encoded data removed]",
      "text/plain": [
       "<Figure size 1440x432 with 5 Axes>"
      ]
     },
     "metadata": {
      "needs_background": "light"
     },
     "output_type": "display_data"
    }
   ],
   "source": [
    "# Get info for test dataset\n",
    "MNIST.get_info(test)"
   ]
  },
  {
   "cell_type": "code",
   "execution_count": 7,
   "metadata": {
    "colab": {
     "base_uri": "https://localhost:8080/",
     "height": 179
    },
    "colab_type": "code",
    "id": "F0t6Rapb_zDC",
    "outputId": "c55c0b7c-e646-4eea-fdb6-3cdf67433231"
   },
   "outputs": [],
   "source": [
    "# DataLoader = data.MNIST(transform='standard')\n",
    "# train, test = DataLoader.get_dataloader(batch_size=250, num_workers=0)\n",
    "# DataLoader.get_info()"
   ]
  },
  {
   "cell_type": "markdown",
   "metadata": {},
   "source": [
    "## Neural Network"
   ]
  },
  {
   "cell_type": "code",
   "execution_count": 8,
   "metadata": {},
   "outputs": [
    {
     "data": {
      "text/plain": [
       "MnistNet(\n",
       "  (FeatureExtractor): Sequential(\n",
       "    (0): Conv2d(1, 8, kernel_size=(2, 2), stride=(1, 1), padding=(1, 1))\n",
       "    (1): ReLU()\n",
       "    (2): Conv2d(8, 16, kernel_size=(2, 2), stride=(1, 1), padding=(1, 1))\n",
       "    (3): ReLU()\n",
       "    (4): MaxPool2d(kernel_size=(2, 2), stride=(2, 2), padding=0, dilation=1, ceil_mode=False)\n",
       "    (5): Conv2d(16, 20, kernel_size=(2, 2), stride=(1, 1), padding=(1, 1))\n",
       "    (6): ReLU()\n",
       "    (7): Conv2d(20, 24, kernel_size=(2, 2), stride=(1, 1), padding=(1, 1))\n",
       "    (8): ReLU()\n",
       "    (9): MaxPool2d(kernel_size=(2, 2), stride=(2, 2), padding=0, dilation=1, ceil_mode=False)\n",
       "  )\n",
       "  (Classifier): Sequential(\n",
       "    (0): Flatten()\n",
       "    (1): Linear(in_features=1536, out_features=256, bias=True)\n",
       "    (2): Dropout(p=0.3, inplace=False)\n",
       "    (3): ReLU()\n",
       "    (4): Linear(in_features=256, out_features=64, bias=True)\n",
       "    (5): Dropout(p=0.3, inplace=False)\n",
       "    (6): ReLU()\n",
       "    (7): Linear(in_features=64, out_features=10, bias=True)\n",
       "  )\n",
       ")"
      ]
     },
     "execution_count": 8,
     "metadata": {},
     "output_type": "execute_result"
    }
   ],
   "source": [
    "# Instantiate a new neural network architecture\n",
    "net = MnistNet()\n",
    "# Set pre-trained weights\n",
    "net.load_state_dict(torch.load('data/models/mnistBaseV2_state_dict.pth'))\n",
    "# Load neural network to chosen device\n",
    "net.to(device)\n",
    "# Set network in evaluation mode\n",
    "net.eval()"
   ]
  },
  {
   "cell_type": "code",
   "execution_count": 9,
   "metadata": {
    "colab": {},
    "colab_type": "code",
    "id": "o9P2UgQz_zDR"
   },
   "outputs": [],
   "source": [
    "# device = torch.device('cuda')\n",
    "# net = MnistNet().to(device)\n",
    "# net.load_state_dict(torch.load('models/mnistBaseV2_state_dict.pth'))"
   ]
  },
  {
   "cell_type": "markdown",
   "metadata": {},
   "source": [
    "## Adversarial attack\n",
    "\n",
    "### Single attack"
   ]
  },
  {
   "cell_type": "code",
   "execution_count": 10,
   "metadata": {},
   "outputs": [
    {
     "data": {
      "image/png": "[encoded data removed]",
      "text/plain": [
       "<Figure size 432x288 with 1 Axes>"
      ]
     },
     "metadata": {
      "needs_background": "light"
     },
     "output_type": "display_data"
    }
   ],
   "source": [
    "# Get an input used as test\n",
    "batch = next(iter(test))\n",
    "# Load X input and y label to device\n",
    "X, y = batch[0].to(device), batch[1].to(device)\n",
    "\n",
    "# Get an exaple imput image\n",
    "img = X[3].cpu().numpy()\n",
    "# Define output function\n",
    "out_fn = torch.nn.Softmax(dim=1)\n",
    "# Get an example output\n",
    "out = out_fn(net(X[3].reshape(1, 1, 28, 28)))\n",
    "# Plot output image\n",
    "plt.imshow(np.transpose(img, (1, 2, 0)).reshape(28, 28), cmap='gray')\n",
    "# Get original label\n",
    "original_label = torch.argmax(out).item()\n",
    "# Make plot\n",
    "plt.title('Output label {} with probability {:.3f}'.format(original_label, float(out[0, original_label])))\n",
    "plt.show()"
   ]
  },
  {
   "cell_type": "code",
   "execution_count": 14,
   "metadata": {},
   "outputs": [
    {
     "data": {
      "image/png": "[encoded data removed]",
      "text/plain": [
       "<Figure size 1080x360 with 2 Axes>"
      ]
     },
     "metadata": {
      "needs_background": "light"
     },
     "output_type": "display_data"
    }
   ],
   "source": [
    "# Define output function\n",
    "out_fn = torch.nn.Softmax(dim=1)\n",
    "# Define loss function\n",
    "loss_fn = ZooLoss(neuron=0, maximise=0)\n",
    "# Define optimizer\n",
    "optim = FrankWolfe(net, loss_fn, 'cuda')\n",
    "\n",
    "# Define optimizer parameters\n",
    "# optim_params = {\n",
    "#     'x': X[3],  # Input variable\n",
    "#     'n_gradient': 600,  # Number of inner iterations for gradient estimation\n",
    "#     'delta': 0.001,  # Gaussian smoothing\n",
    "#     'beta': 0.2,  # Momentum weight (1 - gradient weight)\n",
    "#     'gamma': 0.2,  # Step size\n",
    "#     'epsilon': 0.3,  # Upper bound for l- norm\n",
    "#     'loss_type': 'inf',  # Loss type\n",
    "#     'max_steps': 100,  # Number of epochs\n",
    "#     'verbose': False\n",
    "# }\n",
    "\n",
    "# Define optimizer parameters\n",
    "optim_params = {\n",
    "    'x': X[3],  # Input variable\n",
    "    'm_weight': 0.2,  # Momentum weight (1 - gradient weight)\n",
    "    'step_size': 0.2,  # Step size\n",
    "    'num_epochs': 100,  # Number of epochs\n",
    "    'l_bound': 0.3,  # Upper bound for l- norm\n",
    "    'l_type': 'inf',  # l- norm type\n",
    "    'grad_num_iter': 600,  # Number of inner iterations for gradient estimation\n",
    "    'grad_smooth': 0.001,  # Gradient smoothing\n",
    "    'grad_how': 'gauss',  # Gaussian estimation\n",
    "    'grad_batch_size': 600,  # Size of the batch used in gradient estimation\n",
    "    'verbose': False\n",
    "}\n",
    "\n",
    "# Disable gradient computation\n",
    "with torch.no_grad():\n",
    "    # Run the optimizer\n",
    "    x, loss, _ = optim.run(**optim_params)\n",
    "    # Compute last output\n",
    "    out = out_fn(net(x.reshape(1, 1, 28, 28)))\n",
    "    label = torch.argmax(out).item()\n",
    "    img = x.detach().cpu().numpy()\n",
    "\n",
    "# Show results\n",
    "fig, ax = plt.subplots(1, 2, figsize=(15, 5))\n",
    "ax[0].plot(loss)\n",
    "ax[0].set_title('Adversarial loss')\n",
    "ax[0].set_ylabel('MSELoss with target 0')\n",
    "ax[0].set_xlabel('Steps')\n",
    "ax[0].grid()\n",
    "ax[1].imshow(img.reshape(28, 28), cmap='gray')\n",
    "ax[1].set_title('P(F(x, w) = {}) = {:.3f}\\nP(F(x, w) = {}) = {:.3f}'.format(label, float(out[0, label]),                                                                            original_label, float(out[0, original_label])))\n",
    "plt.show()"
   ]
  },
  {
   "cell_type": "markdown",
   "metadata": {},
   "source": [
    "**5.1 General attack**\n",
    "\n",
    "Here we try to manipulate the input such that it will be misclassified in favor of a whatever class. Usually its easier and we deal with the problem by minimizing the probability of the true class  \n",
    "\n",
    "*E.g.* <br> \n",
    "We want to try to manimize the probability of classification of neuron *zero*"
   ]
  },
  {
   "cell_type": "code",
   "execution_count": null,
   "metadata": {},
   "outputs": [],
   "source": [
    "### Define our custom loss function and call the optimizer\n",
    "adv_loss = customLoss.ZooLoss(neuron=0, maximise=0)\n",
    "adv_optimizer = FWOptim.FWOptim(net, adv_loss, 'cuda')\n",
    "### Run the optimizer\n",
    "EPOCH = 100\n",
    "x, loss, outs = adv_optimizer.run(**params)\n",
    "\n",
    "\n",
    "### Compute manually last output\n",
    "out = nn.Softmax(dim=1)(net(x.reshape(1, 1, 28, 28)))\n",
    "label = torch.argmax(out).item()\n",
    "img = x.detach().cpu().numpy()\n",
    "\n",
    "### Display results\n",
    "fig, ax = plt.subplots(1, 2, figsize=(15, 5))\n",
    "ax[0].plot(loss)\n",
    "ax[0].set_title('Adversarial loss')\n",
    "ax[0].set_ylabel('MSELoss with target 0')\n",
    "ax[0].set_xlabel('Steps')\n",
    "ax[0].grid()\n",
    "ax[1].imshow(img.reshape(28, 28), cmap='gray')\n",
    "ax[1].set_title('P(F(x, w) = {}) = {:.3f}\\nP(F(x, w) = {}) = {:.3f}'.format(label, float(out[0, label]), \n",
    "                                                                             original_label, float(out[0, original_label])))\n",
    "plt.show()"
   ]
  },
  {
   "cell_type": "markdown",
   "metadata": {},
   "source": [
    "**5.2 Specific attack**\n",
    "\n",
    "Here we try to manipulate the input such that it will be misclassified in favor of a *specific* class.\n",
    "\n",
    "*E.g.* <br> \n",
    "We want to try to maximise the probability of classification of neuron *eight*"
   ]
  },
  {
   "cell_type": "code",
   "execution_count": null,
   "metadata": {
    "colab": {
     "base_uri": "https://localhost:8080/",
     "height": 382
    },
    "colab_type": "code",
    "id": "lfizJe6W_zDg",
    "outputId": "6a77e35e-e00e-458c-d320-9f2a293c8af0",
    "scrolled": true
   },
   "outputs": [],
   "source": [
    "### Define our custom loss function and call the optimizer\n",
    "adv_loss = customLoss.MSELoss(neuron=8, maximise=1)\n",
    "adv_optimizer = FWOptim.FWOptim(net, adv_loss, 'cuda')\n",
    "### Run the optimizer\n",
    "EPOCH = 100\n",
    "x, loss, outs = adv_optimizer.run(**params)\n",
    "\n",
    "### Compute manually last output\n",
    "out = nn.Softmax(dim=1)(net(x.reshape(1, 1, 28, 28)))\n",
    "label = torch.argmax(out).item()\n",
    "img = x.detach().cpu().numpy()\n",
    "\n",
    "### Display results\n",
    "fig, ax = plt.subplots(1, 2, figsize=(15, 5))\n",
    "ax[0].plot(loss)\n",
    "ax[0].set_title('Adversarial loss')\n",
    "ax[0].set_ylabel('Softmax MSELoss')\n",
    "ax[0].set_xlabel('Steps')\n",
    "ax[0].grid()\n",
    "ax[1].imshow(img.reshape(28, 28), cmap='gray')\n",
    "ax[1].set_title('P(F(x, w) = {}) = {:.3f}\\nP(F(x, w) = {}) = {:.3f}'.format(label, float(out[0, label]),\n",
    "                                                                             original_label, float(out[0, original_label])))\n",
    "plt.show()"
   ]
  },
  {
   "cell_type": "markdown",
   "metadata": {
    "colab_type": "text",
    "id": "AQF0fx_B5rDS"
   },
   "source": [
    "**Success rate at different infinity norm upper bound**\n",
    "\n",
    "Here we can see how the algorithm perform when it goes from stricter to less strict epsilon with the first 10 validation images."
   ]
  },
  {
   "cell_type": "markdown",
   "metadata": {},
   "source": [
    "**BETTER ON COLAB**"
   ]
  },
  {
   "cell_type": "code",
   "execution_count": null,
   "metadata": {
    "colab": {
     "base_uri": "https://localhost:8080/",
     "height": 50
    },
    "colab_type": "code",
    "id": "DlHPALAKDvys",
    "outputId": "fb18d80a-ab03-4849-d9b4-1d614bf6e848"
   },
   "outputs": [],
   "source": [
    "device = torch.device('cuda')\n",
    "EPOCH = 100\n",
    "def evaluate(e, n=7, mk=28**2, ak=0.8, v=0.2):\n",
    "    X_test = X[:n, ...]\n",
    "    success = []\n",
    "    xs = []\n",
    "    for x in tqdm(X_test):\n",
    "        y_before = int(torch.argmax(net(x.to(device).view(1, 1, 28, 28))))\n",
    "        loss = customLoss.Zoo(neuron=y_before, maximise=0, dim=1)\n",
    "        ADVoptim = zeroOptim.ClassicZSCG(model=net, loss=loss, device=device)\n",
    "        x_out, loss_curve, out =  ADVoptim.run(x, \n",
    "                                               v=v, \n",
    "                                               mk=[mk]*EPOCH, \n",
    "                                               ak=[ak]*EPOCH,\n",
    "                                               epsilon=e, \n",
    "                                               max_steps=EPOCH, \n",
    "                                               verbose=0,\n",
    "                                               tqdm_disabled=True)\n",
    "\n",
    "        if int(torch.argmax(net(x_out.reshape(1, 1, 28, 28))).item()) != y_before:\n",
    "            success.append(1)\n",
    "        else:\n",
    "            success.append(0)\n",
    "        xs.append(x_out)\n",
    "    return success, xs\n",
    "\n",
    "net = net.to(device)\n",
    "epsilon = 0.25\n",
    "success_list, out_list = evaluate(epsilon, ak=0.9)\n",
    "print('Success rate with epsilon = {}:\\t{:.1f}%'.format(epsilon, 100*np.sum(success_list)/len(success_list)))"
   ]
  },
  {
   "cell_type": "code",
   "execution_count": null,
   "metadata": {
    "colab": {
     "base_uri": "https://localhost:8080/",
     "height": 1000
    },
    "colab_type": "code",
    "id": "eBjVwJho1f77",
    "outputId": "e8318143-e54e-48ba-eda0-846941944a55"
   },
   "outputs": [],
   "source": [
    "fig, ax = plt.subplots(9, 7, figsize = (30, 31))\n",
    "for n in range(7):\n",
    "    out_before = int(torch.argmax(net(X[n, ...].to(device).view(1, 1, 28, 28))))\n",
    "    img_before = X[n, ...].detach().cpu().numpy()\n",
    "    ax[0, n].imshow(img_before.reshape(28, 28), cmap='gray')\n",
    "    ax[0, n].set_title(out_before)\n",
    "for i in range(1, 9):\n",
    "    a1, b1 = evaluate(0.1*i)\n",
    "    for n, t in enumerate(zip(a1, b1)):\n",
    "        out_after = int(torch.argmax(net(t[1].view(1, 1, 28, 28))))\n",
    "        img_after = t[1].detach().cpu().numpy()\n",
    "        ax[i, n].imshow(img_after.reshape(28, 28), cmap='gray')\n",
    "        ax[i, n].set_title('{}, eps = {:.2f}'.format(out_after, float(i*0.1)))\n",
    "plt.show()"
   ]
  }
 ],
 "metadata": {
  "accelerator": "GPU",
  "colab": {
   "collapsed_sections": [],
   "name": "AttackMNIST.ipynb",
   "provenance": []
  },
  "kernelspec": {
   "display_name": "Python 3",
   "language": "python",
   "name": "python3"
  },
  "language_info": {
   "codemirror_mode": {
    "name": "ipython",
    "version": 3
   },
   "file_extension": ".py",
   "mimetype": "text/x-python",
   "name": "python",
   "nbconvert_exporter": "python",
   "pygments_lexer": "ipython3",
   "version": "3.7.6"
  }
 },
 "nbformat": 4,
 "nbformat_minor": 1
}
