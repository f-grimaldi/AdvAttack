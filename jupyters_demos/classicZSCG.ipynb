{
 "cells": [
  {
   "cell_type": "code",
   "execution_count": null,
   "metadata": {},
   "outputs": [],
   "source": []
  },
  {
   "cell_type": "code",
   "execution_count": 1,
   "metadata": {},
   "outputs": [],
   "source": [
    "import matplotlib.pyplot as plt\n",
    "import numpy as np\n",
    "import torch\n",
    "from torch import nn\n",
    "from tqdm import tqdm"
   ]
  },
  {
   "cell_type": "code",
   "execution_count": 2,
   "metadata": {},
   "outputs": [],
   "source": [
    "class SpecificSoftmaxMSE():\n",
    "\n",
    "    def __init__(self, neuron, y_true=0, dim=1):\n",
    "        \"\"\"\n",
    "        Args:\n",
    "        Name     Type    Desc\n",
    "        neuron:  int     The output neuron to minimize\n",
    "        y_true   float   The desired activation\n",
    "        dim      int     The softmax axis. Default is one for tensor with shape (n_batches, n_classes)\n",
    "        \"\"\"\n",
    "        super().__init__()\n",
    "        self.neuron = neuron\n",
    "        self.y_true = y_true\n",
    "        self.logits = nn.Softmax(dim=dim)\n",
    "\n",
    "    \"\"\"\n",
    "    Compute the MSE after computing the softmax of input.\n",
    "    Forward is implemented in the __call__ method of super\n",
    "    \"\"\"\n",
    "    def forward(self, y_pred):\n",
    "        \"\"\"\n",
    "        Args\n",
    "        y_pred  torch.tensor The output of the networ. Preferable shape (n_batch, n_classes)\n",
    "        \"\"\"\n",
    "        if len(y_pred.shape) == 1:\n",
    "            y_pred = y_pred.reshape(1, -1)\n",
    "        return 0.5*(self.y_true - self.logits(y_pred)[:, self.neuron])**2\n",
    "    \n",
    "    def __call__(self, x):\n",
    "        return self.forward(x)"
   ]
  },
  {
   "cell_type": "code",
   "execution_count": 59,
   "metadata": {},
   "outputs": [],
   "source": [
    "class ClassicZSCG(object):\n",
    "    \"\"\"\n",
    "    Args:\n",
    "    Name            Type                Description\n",
    "    model:          (nn.Module)         The model to use to get the output\n",
    "    loss:           (nn.Module)         The loss to minimize\n",
    "    device:\n",
    "    \"\"\"\n",
    "    def __init__(self, model, loss, device=torch.device('cuda')):\n",
    "        self.device = device\n",
    "        self.loss = loss\n",
    "        self.model = model.to(self.device)\n",
    "        self.model.eval()\n",
    "\n",
    "\n",
    "    def run(self, x, v, mk, ak , epsilon,\n",
    "            C = (0, 1), max_steps=100,\n",
    "            stop_criterion=1e-3, verbose=0,\n",
    "            additional_out=False, tqdm_disabled=False):\n",
    "        \"\"\"\n",
    "        Args:\n",
    "        Name            Type                Description\n",
    "        x:              (torch.tensor)      The variable of our optimization problem. Should be a 3D tensor (img)\n",
    "        v:              (float)             The gaussian smoothing\n",
    "        mk:             (list)              Number of normal vector to generate at every step\n",
    "        ak              (list)              Pseudo learning rate/momentum  every step\n",
    "        epsilon:        (float)             The upper bound of the infinity norm\n",
    "        C:              (tuple)             The boundaires of the pixel. Default is (0, 1)\n",
    "        max_steps:      (int)               The maximum number of steps. Default is 100\n",
    "        stop_criterion  (float)             The minimum loss function. Default is 1e-3\n",
    "        verbose:        (int)               Display information or not. Default is 0\n",
    "        additional_out  (bool)              Return also all the x. Default is False\n",
    "        tqdm_disable    (bool)              Disable the tqdm bar. Default is False\n",
    "        \"\"\"\n",
    "        x = x.to(self.device)\n",
    "\n",
    "        # 1. Init class attributes\n",
    "        self.create_boundaries(x, epsilon, C) # Set x_original min and max\n",
    "        self.dim = x.shape\n",
    "        self.total_dim = torch.prod(torch.tensor(x.shape))\n",
    "        self.epsilon = epsilon\n",
    "\n",
    "        # 2. Init list of results\n",
    "        losses, outs = [], [] # List of losses and outputs\n",
    "\n",
    "        # 3. Main optimization cycle\n",
    "        for ep in tqdm(range(max_steps), disable=tqdm_disabled):\n",
    "            if verbose:\n",
    "                print(\"---------------\")\n",
    "                print(\"Step number: {}\".format(ep))\n",
    "            # 3.1 Call the step\n",
    "            x, gk = self.step(x, v, ak[ep], mk[ep], verbose)\n",
    "            x = x.reshape(self.dim[0], self.dim[1], self.dim[2]).detach()\n",
    "            # 3.2 Compute loss\n",
    "            out = self.model(x.view(1, self.dim[0], self.dim[1], self.dim[2]))\n",
    "            loss = self.loss(out)\n",
    "            # 3.3 Save results\n",
    "            losses.append(loss.detach().cpu().item())\n",
    "            outs.append(out.detach().cpu()[0, self.loss.neuron].item())\n",
    "            # 3.4 Display current info\n",
    "            if verbose:\n",
    "                print(\"Loss:        {}\".format(losses[-1]))\n",
    "                print(\"Output:      {}\".format(outs[-1]))\n",
    "            # 3.5 Check Stopping criterion\n",
    "            if loss < stop_criterion:\n",
    "                break\n",
    "\n",
    "\n",
    "        return  x, losses, outs\n",
    "\n",
    "\n",
    "    def step(self, x, v, ak, mk, verbose=0):\n",
    "        # Compute the approximated gradient\n",
    "        g = self.compute_Gk(x, v, mk, verbose)\n",
    "        # Call the inexact conditional gradient\n",
    "        x_g = self.compute_CG(x, g, verbose).reshape(x.shape[0], x.shape[1], x.shape[2])\n",
    "        x_new = (1-ak)*x + ak*x_g\n",
    "\n",
    "        if verbose > 1:\n",
    "            print(\"\\nINSIDE STEP\")\n",
    "            print(\"Gradient has shape: {}\".format(g.shape))\n",
    "            print(\"Gradient is:\\n{}\".format(g))\n",
    "            print(\"x_new has shape: {}\".format(x_new.shape))\n",
    "            print(\"x_new is:\\n{}\".format(x_new))\n",
    "\n",
    "        return x_new.detach(), g.detach()\n",
    "\n",
    "    \"\"\"\n",
    "    Compute the Gv(x(k-1), chi(k-1), u(k)) in order to compute an approximation of the gradient of f(x(k-1), chi(k-1))\n",
    "    \"\"\"\n",
    "    def compute_Gk(self, x, v, mk, verbose=0):\n",
    "        \"\"\"\n",
    "        Args:\n",
    "        Name            Type                Description\n",
    "        x:              (torch.tensor)      The variable of our optimization problem. Should be a 3D tensor (img)\n",
    "        v:              (float)             The gaussian smoothing\n",
    "        verbose:        (bool)              Display information or not. Default is 0\n",
    "        \"\"\"\n",
    "        # 1. Create x(k-1) + v*u(k-1)\n",
    "        uk     = torch.empty(mk, self.total_dim).normal_(mean=0, std=1).to(self.device) # Dim (mk, channel*width*height)\n",
    "        img_u  = uk.reshape(mk, self.dim[0], self.dim[1], self.dim[2])                  # Dim (mk, channel, width, height)\n",
    "        img_x  = x.expand(mk, self.dim[0], self.dim[1], self.dim[2])                    # Dim (mk, channel, width, height)\n",
    "        m_x    = (img_x + v*img_u)                                                      # Dim (mk, channel, width, height)\n",
    "\n",
    "        if verbose > 1:\n",
    "            print('\\nINSIDE GRADIENT')\n",
    "            print('The Gaussian vector uk has shape:{}'.format(uk.shape))\n",
    "            print('The input x has shape:\\t\\t{}'.format(x.shape))\n",
    "            print('The input x + vu has shape:\\t{}'.format(m_x.shape))\n",
    "\n",
    "        # 2. Get objective functions\n",
    "        standard_loss = self.loss(self.model(x.view(1, x.shape[0], x.shape[1], x.shape[2])))                                        # Dim (1)\n",
    "        gaussian_loss = self.loss(self.model(m_x))                                      # Dim (mk)\n",
    "\n",
    "        # 3. Compute Gv(x(k-1), chi(k-1), u(k))\n",
    "        fv = ((gaussian_loss - standard_loss.expand(uk.shape[0]))/v).view(-1, 1)        # Dim (mk, 1)\n",
    "        G = fv * uk                                                                     # Dim (mk, channel*width*height)\n",
    "\n",
    "        return torch.mean(G, axis=0).detach()\n",
    "\n",
    "\n",
    "    def compute_CG(self, x, g, verbose):\n",
    "        \"\"\"\n",
    "        Args:\n",
    "        Name            Type                Description\n",
    "        x:              (torch.tensor)      The variable of our optimization problem. Should be a 3D tensor (img)\n",
    "        g:              (torch.tensor)      The approximated gradient. Should be a 1D tensor\n",
    "        \"\"\"\n",
    "        # 1. Init variables\n",
    "        x = x.view(-1) # dim = (n_channel * width * height)\n",
    "        u = torch.rand(self.total_dim).to(self.device)*(self.max.view(-1) - self.min.view(-1)) + self.min.view(-1)\n",
    "\n",
    "        # 2. Main cycle\n",
    "        x_new = self.check_boundaries(self.x_original.view(-1) - self.epsilon*torch.sign(g))\n",
    "\n",
    "        if verbose > 1:\n",
    "            print('\\nINSIDE CG')\n",
    "            print('Epsilon * Sign(g) is {}'.format(self.epsilon*torch.sign(g)))\n",
    "            print('Unchecked new x is: {}'.format(self.x_original.view(-1) - self.epsilon*torch.sign(g)))\n",
    "            print('The CG gradient is:\\n{}'.format(g))\n",
    "            print('The new x is:\\n {}'.format(x_new))\n",
    "\n",
    "        return x_new.detach()\n",
    "\n",
    "\n",
    "    def create_boundaries(self, x, epsilon, C):\n",
    "        \"\"\"\n",
    "        Args:\n",
    "        Name            Type                Description\n",
    "        x:              (torch.tensor)      The original image. Should be a 3D tensor (img)\n",
    "        epsilon:        (float)             The maximum value of ininity norm.\n",
    "        \"\"\"\n",
    "        self.x_original = x.clone().to(self.device)           # dim = (n_channel, width, height)\n",
    "        self.max = (self.x_original+epsilon).to(self.device)  # dim = (n_channel, width, height)\n",
    "        self.min = (self.x_original-epsilon).to(self.device)  # dim = (n_channel, width, height)\n",
    "        self.C = C\n",
    "        self.max[self.max > C[1]] = C[1]\n",
    "        self.min[self.min < C[0]] = C[0]\n",
    "\n",
    "    def check_boundaries(self, x):\n",
    "        x[x > self.C[1]] = self.C[1]\n",
    "        x[x < self.C[0]] = self.C[0]\n",
    "        return x"
   ]
  },
  {
   "cell_type": "code",
   "execution_count": 44,
   "metadata": {},
   "outputs": [],
   "source": [
    "class Net(nn.Module):\n",
    "\n",
    "    def __init__(self):\n",
    "        super().__init__()\n",
    "        self.conv = nn.Conv2d(1, 3, (2, 2), stride=2, padding=1)\n",
    "        self.linear = nn.Linear(3, 3)\n",
    "\n",
    "\n",
    "    def forward(self, x):\n",
    "        x = nn.ReLU()(self.conv(x))\n",
    "        return nn.Sigmoid()(self.linear(x.view(x.shape[0], -1)))"
   ]
  },
  {
   "cell_type": "code",
   "execution_count": 45,
   "metadata": {},
   "outputs": [
    {
     "name": "stdout",
     "output_type": "stream",
     "text": [
      "X is 25.58847\n",
      "Out is tensor([0.8694, 0.1029, 0.0351])\n"
     ]
    }
   ],
   "source": [
    "net = Net()\n",
    "original_x = torch.rand(1, 1, 1).float() + 25\n",
    "original_out = net(original_x.view(1, 1, 1, 1))[0].data\n",
    "print('X is {:.5f}'.format(float(original_x)))\n",
    "print('Out is {}'.format(original_out))"
   ]
  },
  {
   "cell_type": "code",
   "execution_count": 46,
   "metadata": {},
   "outputs": [
    {
     "data": {
      "image/png": "[encoded data removed]",
      "text/plain": [
       "<Figure size 720x360 with 1 Axes>"
      ]
     },
     "metadata": {
      "needs_background": "light"
     },
     "output_type": "display_data"
    }
   ],
   "source": [
    "n = 1\n",
    "\n",
    "xs, outs1 = [], []\n",
    "for x in range(-100, 100):\n",
    "    xs.append(x)\n",
    "    outs1.append(net(torch.tensor([x]).view(1, 1, 1, 1).float())[0, n])\n",
    "\n",
    "plt.figure(figsize = (10, 5))\n",
    "plt.plot(xs, outs1, label = 'Output function')\n",
    "plt.axvline(original_x + 20, linestyle='--', color='orange', label = 'Epsilon Buondaries')\n",
    "plt.axvline(original_x -20, linestyle='--', color='orange')\n",
    "plt.axvline(-40, linestyle='--', color='red', label = 'Pixel Boundaries')\n",
    "plt.axvline(40, linestyle='--', color='red')\n",
    "plt.scatter(original_x, original_out[n], label='Starting point')\n",
    "plt.legend()\n",
    "plt.xlabel('Input')\n",
    "plt.ylabel('Out')\n",
    "plt.grid()\n",
    "plt.show()"
   ]
  },
  {
   "cell_type": "code",
   "execution_count": 47,
   "metadata": {},
   "outputs": [],
   "source": [
    "N = 5\n",
    "d = torch.prod(torch.tensor(original_x.shape))\n",
    "\n",
    "params = {'x':              original_x,\n",
    "          'v':              (1/(2*N*(d+3)**3))**0.5,\n",
    "          'mk':             [6*(d+5)*N]*N,\n",
    "          'ak':             [0.5]*N,\n",
    "          'C':              (-40, 40), \n",
    "          'epsilon':        20,\n",
    "          'max_steps':      N,\n",
    "          'stop_criterion': 1e-1,\n",
    "          'verbose':        2\n",
    "         }"
   ]
  },
  {
   "cell_type": "code",
   "execution_count": 48,
   "metadata": {},
   "outputs": [
    {
     "name": "stderr",
     "output_type": "stream",
     "text": [
      "  0%|                                                                                            | 0/5 [00:00<?, ?it/s]"
     ]
    },
    {
     "name": "stdout",
     "output_type": "stream",
     "text": [
      "---------------\n",
      "Step number: 0\n",
      "\n",
      "INSIDE GRADIENT\n",
      "The Gaussian vector uk has shape:torch.Size([180, 1])\n",
      "The input x has shape:\t\ttorch.Size([1, 1, 1])\n",
      "The input x + vu has shape:\ttorch.Size([180, 1, 1, 1])\n",
      "\n",
      "INSIDE CG\n",
      "Epsilon * Sign(g) is tensor([-20.], device='cuda:0')\n",
      "The CG gradient is:\n",
      "tensor([-0.0005], device='cuda:0')\n",
      "The new x is:\n",
      " tensor([40.], device='cuda:0')\n",
      "\n",
      "INSIDE STEP\n",
      "Gradient has shape: torch.Size([1])\n",
      "Gradient is:\n",
      "tensor([-0.0005], device='cuda:0')\n",
      "x_new has shape: torch.Size([1, 1, 1])\n",
      "x_new is:\n",
      "tensor([[[32.7942]]], device='cuda:0')\n",
      "Loss:        0.026959720999002457\n",
      "Output:      0.05807171016931534\n"
     ]
    },
    {
     "name": "stderr",
     "output_type": "stream",
     "text": [
      "\n"
     ]
    }
   ],
   "source": [
    "device = torch.device('cuda')\n",
    "loss_fn = SpecificSoftmaxMSE(neuron=n, y_true=0)\n",
    "optim = ClassicZSCG(model=net, loss=loss_fn)\n",
    "x_new, losses, outs = optim.run(**params)"
   ]
  },
  {
   "cell_type": "code",
   "execution_count": 49,
   "metadata": {},
   "outputs": [
    {
     "data": {
      "image/png": "[encoded data removed]",
      "text/plain": [
       "<Figure size 720x360 with 1 Axes>"
      ]
     },
     "metadata": {
      "needs_background": "light"
     },
     "output_type": "display_data"
    }
   ],
   "source": [
    "net = net.cpu()\n",
    "out_new =  net(torch.tensor([x_new]).view(1, 1, 1, 1).float())[0, n]\n",
    "\n",
    "plt.figure(figsize = (10, 5))\n",
    "plt.plot(xs, outs1, label = 'Output function')\n",
    "plt.axvline(original_x + 20, linestyle='--', color='orange', label = 'Epsilon Buondaries')\n",
    "plt.axvline(original_x -20, linestyle='--', color='orange')\n",
    "plt.axvline(-40, linestyle='--', color='red', label = 'Pixel Boundaries')\n",
    "plt.axvline(40, linestyle='--', color='red')\n",
    "plt.scatter(original_x, original_out[n], label='Starting point')\n",
    "plt.scatter(x_new.cpu().detach(), out_new.cpu().detach(), label='Ending point')\n",
    "plt.legend()\n",
    "plt.xlabel('Input')\n",
    "plt.ylabel('Out')\n",
    "plt.grid()"
   ]
  },
  {
   "cell_type": "code",
   "execution_count": 80,
   "metadata": {},
   "outputs": [
    {
     "name": "stderr",
     "output_type": "stream",
     "text": [
      "  0%|                                                                                          | 0/500 [00:00<?, ?it/s]"
     ]
    },
    {
     "name": "stdout",
     "output_type": "stream",
     "text": [
      "0.003952847075210474\n",
      "---------------\n",
      "Step number: 0\n",
      "\n",
      "INSIDE GRADIENT\n",
      "The Gaussian vector uk has shape:torch.Size([18000, 1])\n",
      "The input x has shape:\t\ttorch.Size([1, 1, 1])\n",
      "The input x + vu has shape:\ttorch.Size([18000, 1, 1, 1])\n",
      "\n",
      "INSIDE CG\n",
      "Epsilon * Sign(g) is tensor([-20.], device='cuda:0')\n",
      "Unchecked new x is: tensor([45.5885], device='cuda:0')\n",
      "The CG gradient is:\n",
      "tensor([-0.0003], device='cuda:0')\n",
      "The new x is:\n",
      " tensor([40.], device='cuda:0')\n",
      "\n",
      "INSIDE STEP\n",
      "Gradient has shape: torch.Size([1])\n",
      "Gradient is:\n",
      "tensor([-0.0003], device='cuda:0')\n",
      "x_new has shape: torch.Size([1, 1, 1])\n",
      "x_new is:\n",
      "tensor([[[40.]]], device='cuda:0')\n",
      "Loss:        0.025491604581475258\n",
      "Output:      0.1840783655643463\n"
     ]
    },
    {
     "name": "stderr",
     "output_type": "stream",
     "text": [
      "\n"
     ]
    },
    {
     "data": {
      "image/png": "[encoded data removed]",
      "text/plain": [
       "<Figure size 720x360 with 1 Axes>"
      ]
     },
     "metadata": {
      "needs_background": "light"
     },
     "output_type": "display_data"
    }
   ],
   "source": [
    "def run_example(epoch, params, bias = 20):\n",
    "    net = Net()\n",
    "    original_x = torch.rand(1, 1, 1).float() + 25\n",
    "    original_out = net(original_x.view(1, 1, 1, 1))[0].data\n",
    "    \n",
    "    n = torch.argmin(original_out)\n",
    "    outs1 = []\n",
    "    xs = []\n",
    "    for x in range(-100, 100):\n",
    "        xs.append(x)\n",
    "        outs1.append(net(torch.tensor([x]).view(1, 1, 1, 1).float())[0, n])\n",
    "        \n",
    "    device = torch.device('cuda')\n",
    "    loss_fn = SpecificSoftmaxMSE(neuron=n, y_true=0)\n",
    "    optim = ClassicZSCG(model=net, loss=loss_fn)\n",
    "    x_new, losses, outs = optim.run(**params)\n",
    "    \n",
    "    net = net.cpu()\n",
    "    out_new =  net(torch.tensor([x_new]).view(1, 1, 1, 1).float())[0, n]\n",
    "\n",
    "    plt.figure(figsize = (10, 5))\n",
    "    plt.plot(xs, outs1, label = 'Output function')\n",
    "    plt.axvline(original_x + 20, linestyle='--', color='orange', label = 'Epsilon Buondaries')\n",
    "    plt.axvline(original_x -20, linestyle='--', color='orange')\n",
    "    plt.axvline(-40, linestyle='--', color='red', label = 'Pixel Boundaries')\n",
    "    plt.axvline(40, linestyle='--', color='red')\n",
    "    plt.scatter(original_x, original_out[n], label='Starting point')\n",
    "    plt.scatter(x_new.cpu().detach(), out_new.cpu().detach(), label='Ending point')\n",
    "    plt.legend()\n",
    "    plt.xlabel('Input')\n",
    "    plt.ylabel('Out')\n",
    "    plt.grid()\n",
    "    plt.show()\n",
    "    \n",
    "    return x_new, losses, outs\n",
    "\n",
    "\n",
    "N = 500\n",
    "d = float(torch.prod(torch.tensor(original_x.shape)))\n",
    "\n",
    "params = {'x':              original_x,\n",
    "          'v':              (1/(2*N*(d+3)**3))**0.5,\n",
    "          'mk':             [int(6*(d+5)*N)]*N,\n",
    "          'ak':             [1]*N,\n",
    "          'C':              (-40, 40), \n",
    "          'epsilon':        20,\n",
    "          'max_steps':      N,\n",
    "          'stop_criterion': 1e-1,\n",
    "          'verbose':        2\n",
    "         }\n",
    "print(params['v'])\n",
    "X_new, l, o =  run_example(N, params)"
   ]
  },
  {
   "cell_type": "code",
   "execution_count": 72,
   "metadata": {},
   "outputs": [
    {
     "data": {
      "text/plain": [
       "(tensor([1]),)"
      ]
     },
     "execution_count": 72,
     "metadata": {},
     "output_type": "execute_result"
    }
   ],
   "source": [
    "(1/(2*500*(torch.tensor([1])+3)**3))**0.5,"
   ]
  },
  {
   "cell_type": "code",
   "execution_count": 24,
   "metadata": {},
   "outputs": [
    {
     "data": {
      "text/plain": [
       "tensor([[[1.]]], device='cuda:0')"
      ]
     },
     "execution_count": 24,
     "metadata": {},
     "output_type": "execute_result"
    }
   ],
   "source": [
    "optim.max"
   ]
  }
 ],
 "metadata": {
  "kernelspec": {
   "display_name": "Python 3",
   "language": "python",
   "name": "python3"
  },
  "language_info": {
   "codemirror_mode": {
    "name": "ipython",
    "version": 3
   },
   "file_extension": ".py",
   "mimetype": "text/x-python",
   "name": "python",
   "nbconvert_exporter": "python",
   "pygments_lexer": "ipython3",
   "version": "3.6.8"
  }
 },
 "nbformat": 4,
 "nbformat_minor": 4
}
