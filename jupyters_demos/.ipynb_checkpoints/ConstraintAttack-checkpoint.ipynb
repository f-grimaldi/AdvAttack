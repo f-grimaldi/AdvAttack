{
 "cells": [
  {
   "cell_type": "code",
   "execution_count": 1,
   "metadata": {},
   "outputs": [
    {
     "name": "stdout",
     "output_type": "stream",
     "text": [
      "C:\\Users\\fgrim\\Desktop\\AdvAttack\\src\n"
     ]
    }
   ],
   "source": [
    "cd src"
   ]
  },
  {
   "cell_type": "code",
   "execution_count": 2,
   "metadata": {},
   "outputs": [],
   "source": [
    "from loss import SpecificSoftmaxMSE\n",
    "\n",
    "import torch\n",
    "from torch import nn, optim\n",
    "\n",
    "\n",
    "import numpy as np\n",
    "import matplotlib.pyplot as plt\n",
    "from sklearn.metrics import accuracy_score\n",
    "from tqdm import tqdm "
   ]
  },
  {
   "cell_type": "code",
   "execution_count": 125,
   "metadata": {},
   "outputs": [
    {
     "data": {
      "text/plain": [
       "\"\\n\\n\\n\\nnet = Net()\\nloss = SpecificSoftmaxMSE(neuron=2, y_true=0, dim=1)\\noptim = ZeroSGD(model=net, loss=loss)\\n\\nx = torch.tensor([1])\\nx, loss_curve, out, xs = optim.run(x.view(1, 1, 1), v, m, a, epsilon=0.5,\\n                            max_steps=epoch, stop_criterion = 0,\\n                            max_aux_step = 100, verbose=0, additional_out=True)\\n\\nmin_, max_ = min(xs), max(xs)\\nlosses = []\\nfor i in tqdm(range(int(min_-1)*10, int(max_+1)*10)):\\n    x = torch.tensor([i/10]).to(torch.device('cuda'))\\n    out = net(x.view(1, 1, 1, 1))\\n    losses.append(loss(out))\\n\\nplt.plot([i/10 for i in range(int(min_-1)*10, int(max_+1)*10)], losses, label='Loss curve')\\nplt.scatter(xs, loss_curve, label='Parameters')\\nplt.legend()\\nplt.xlabel('Input')\\nplt.ylabel('Loss')\\nplt.title('Loss function')\\nplt.grid()\\nplt.show()\\n\""
      ]
     },
     "execution_count": 125,
     "metadata": {},
     "output_type": "execute_result"
    }
   ],
   "source": [
    "\"\"\"\n",
    "Classic version of the Zero-order Stochastic Gradient method (ZeroSGD)\n",
    "\"\"\"\n",
    "class ZeroSGD(object):\n",
    "    \"\"\"\n",
    "    Args:\n",
    "    Name            Type                Description\n",
    "    model:          (nn.Module)         The model to use to get the output\n",
    "    loss:           (nn.Module)         The loss to minimize\n",
    "    device:\n",
    "    \"\"\"\n",
    "    def __init__(self, model, loss, device=torch.device('cuda')):\n",
    "        self.device = device\n",
    "        self.loss = loss\n",
    "        self.model = model.to(self.device)\n",
    "        self.model.eval()\n",
    "\n",
    "\n",
    "    \"\"\"\n",
    "    Perform a zero-order optimization\n",
    "    \"\"\"\n",
    "    def run(self, x, v, mk, ak, epsilon, max_steps=100, \n",
    "            stop_criterion = 1e-10, max_aux_step = 100, \n",
    "            verbose=0, additional_out=False,\n",
    "            tqdm_disable=False):\n",
    "        \"\"\"\n",
    "        Args:\n",
    "        Name            Type                Description\n",
    "        x:              (torch.tensor)      The variable of our optimization problem\n",
    "        v:              (float)             The gaussian smoothing\n",
    "        mK:             (list)              A list of the the number of normal vector to generate at every step\n",
    "        aK:             (list)              The momentum to use at every step\n",
    "        epsilon:        (float)             The upper bound of the infinity norm\n",
    "        max_steps:      (int)               The maximum number of steps\n",
    "        stop_criterion  (float)             TODO\n",
    "        max_aux_step    (int)               TODO\n",
    "        verbose:        (bool)              Display information or not. Default is 0\n",
    "        \"\"\"\n",
    "        self.total_dim = x.shape[0]*x.shape[1]*x.shape[2]\n",
    "        self.dim  = x.shape\n",
    "        x = x.reshape(1, self.dim[0], self.dim[1], self.dim[2])\n",
    "        self.mins = (x.clone() - epsilon).view(-1).to(self.device)\n",
    "        self.max  = (x.clone() + epsilon).view(-1).to(self.device)\n",
    "        self.epsilon = epsilon\n",
    "\n",
    "        # Init list for results\n",
    "        losses, outs = [], [] #List of losses and outputs\n",
    "        xs = []\n",
    "\n",
    "        # Optimizaion Cycle\n",
    "        self.x = x\n",
    "        for ep in tqdm(range(max_steps), disable=tqdm_disable):\n",
    "            # Call the step\n",
    "            x, Gk, uk = self.step(x, v, mk[ep], ak[ep], verbose)\n",
    "            # Project on boundaries\n",
    "            if verbose:\n",
    "                print('Shape of x: {}'.format(x.shape))\n",
    "                print('Shape of min: {}'.format(self.mins.shape))\n",
    "                print('Shape of max: {}'.format(self.max.shape))\n",
    "            x[self.max-x<0] = self.max[self.max-x<0]\n",
    "            x[x-self.mins<0] = self.mins[x-self.mins<0]\n",
    "            # Compute new loss\n",
    "            x = x.reshape(1, self.dim[0], self.dim[1], self.dim[2])\n",
    "            if additional_out:\n",
    "                xs.append(x.detach().cpu())\n",
    "            out  = self.model(x)\n",
    "            loss = self.loss(out)\n",
    "            # Save results\n",
    "            #xs.append(x.cpu().detach().numpy())\n",
    "            outs.append(out.cpu()[0, self.loss.neuron].item())\n",
    "            losses.append(loss.cpu().item())\n",
    "            # Display current info\n",
    "            if verbose:\n",
    "                print('---------------------------')\n",
    "                print('Step number: {}'.format(ep))\n",
    "                print('x:  {}'.format(x))\n",
    "                print('New loss:    {}'.format(loss.cpu().item()))\n",
    "            if loss < stop_criterion:\n",
    "                break\n",
    "\n",
    "        # Return\n",
    "        if additional_out:\n",
    "            return x, losses, outs, xs\n",
    "        return x, losses, outs\n",
    "\n",
    "    \"\"\"\n",
    "    Do an optimization step\n",
    "    \"\"\"\n",
    "    def step(self, x, v, mk, ak, verbose=0):\n",
    "        # 1 .Create x(k-1) and add a first dimension indicating that we are using an input with batch size equals 1\n",
    "        x = x.float().to(self.device)\n",
    "        # 2.Create x(k-1) + v*u(k-1)\n",
    "        uk     = self.generate_uk(mk)                                                   # Dim (mk, channel*width*height)\n",
    "        img_u  = uk.reshape(mk, self.dim[0], self.dim[1], self.dim[2]).to(self.device)  # Dim (mk, channel, width, height)\n",
    "        img_x  = x.expand(mk, self.dim[0], self.dim[1], self.dim[2])                    # Dim (mk, channel, width, height)\n",
    "        m_x    = (img_x + v*img_u)                                                      # Dim (mk, channel, width, height)\n",
    "\n",
    "        if verbose > 1:\n",
    "            print('INPUT')\n",
    "            print('The Gaussian vector uk has shape:{}'.format(uk.shape))\n",
    "            print('The input x has shape:\\t\\t{}'.format(x.shape))\n",
    "            print('The input x + vu has shape:\\t{}'.format(m_x.shape))\n",
    "\n",
    "        # 3. Get objective functions\n",
    "        standard_loss = self.loss(self.model(x))                                            # Dim (1)\n",
    "        gaussian_loss = self.loss(self.model(m_x))                                          # Dim (mk)\n",
    "        # 4. Compute gradient approximation\n",
    "        Gk  = self.compute_Gk(standard_loss, gaussian_loss, v, uk)                       # Dim (channel*width*height)\n",
    "\n",
    "        if verbose > 1:\n",
    "            print('OUTPUT')\n",
    "            print('F(x) has shape:\\t\\t\\t{}'.format(standard_loss.shape))\n",
    "            print('F(x + vu) has shape:\\t\\t{}'.format(gaussian_loss.shape))\n",
    "            # 4. Evaluate approximation of the gradient\n",
    "            print('GRADIENT APPROXIMATION')\n",
    "            print('G(u;v,k,x) has shape:\\t\\t{}'.format(Gk.shape))\n",
    "            print('Gradient: {}'.format(ak*Gk/torch.norm(Gk)))\n",
    "\n",
    "        # 4.Find the argmin\n",
    "        return x.reshape(-1) - ak*Gk/torch.norm(Gk), Gk, uk\n",
    "\n",
    "\n",
    "    \"\"\"\n",
    "    Generate a random normal vector of size mk\n",
    "    \"\"\"\n",
    "    def generate_uk(self, mk):\n",
    "        return torch.empty(mk, self.total_dim).normal_(mean=0, std=1).to(self.device)\n",
    "\n",
    "\n",
    "    \"\"\"\n",
    "    Compute objective function (loss) given an input for the model\n",
    "    \"\"\"\n",
    "    def compute_loss(self, x):\n",
    "        out = self.model(x)\n",
    "        loss = self.loss(out)\n",
    "        return loss\n",
    "\n",
    "\n",
    "    \"\"\"\n",
    "    Compute the Gv(x(k-1), chi(k-1), u(k)) in order to compute an approximation of the gradient of f(x(k-1), chi(k-1))\n",
    "    \"\"\"\n",
    "    def compute_Gk(self, standard_loss, gaussian_loss, v, uk, verbose=0):\n",
    "        \"\"\"\n",
    "        Args:\n",
    "        Name            Type                Description\n",
    "        standard_loss:  (torch.tensor)      The loss given the input\n",
    "        gaussian_loss:  (torch.tensor)      The loss given the input with a gaussian vector\n",
    "        v:              (float)             The gaussian smoothing\n",
    "        uK:             (torch.tensor)      The random Normal vector\n",
    "        verbose:        (bool)              Display information or not. Default is 0\n",
    "        \"\"\"\n",
    "        # Compute Gv(x(k-1), chi(k-1), u(k))\n",
    "        fv = ((gaussian_loss - standard_loss.expand(uk.shape[0]))/v).view(-1, 1)             # Dim (mk, 1)\n",
    "        G =  fv * uk                                                                         # Dim (mk, channel*width*height)\n",
    "        return torch.mean(G, axis=0)                                                         # Dim (channel*width*height\n",
    "\n",
    "\n",
    "    \n",
    "    \n",
    "\"\"\"\n",
    "\n",
    "\n",
    "\n",
    "net = Net()\n",
    "loss = SpecificSoftmaxMSE(neuron=2, y_true=0, dim=1)\n",
    "optim = ZeroSGD(model=net, loss=loss)\n",
    "\n",
    "x = torch.tensor([1])\n",
    "x, loss_curve, out, xs = optim.run(x.view(1, 1, 1), v, m, a, epsilon=0.5,\n",
    "                            max_steps=epoch, stop_criterion = 0,\n",
    "                            max_aux_step = 100, verbose=0, additional_out=True)\n",
    "\n",
    "min_, max_ = min(xs), max(xs)\n",
    "losses = []\n",
    "for i in tqdm(range(int(min_-1)*10, int(max_+1)*10)):\n",
    "    x = torch.tensor([i/10]).to(torch.device('cuda'))\n",
    "    out = net(x.view(1, 1, 1, 1))\n",
    "    losses.append(loss(out))\n",
    "\n",
    "plt.plot([i/10 for i in range(int(min_-1)*10, int(max_+1)*10)], losses, label='Loss curve')\n",
    "plt.scatter(xs, loss_curve, label='Parameters')\n",
    "plt.legend()\n",
    "plt.xlabel('Input')\n",
    "plt.ylabel('Loss')\n",
    "plt.title('Loss function')\n",
    "plt.grid()\n",
    "plt.show()\n",
    "\"\"\""
   ]
  },
  {
   "cell_type": "code",
   "execution_count": 49,
   "metadata": {},
   "outputs": [
    {
     "data": {
      "text/plain": [
       "Net(\n",
       "  (conv): Conv2d(1, 3, kernel_size=(2, 2), stride=(1, 1), padding=(1, 1))\n",
       "  (linear): Linear(in_features=27, out_features=2, bias=True)\n",
       ")"
      ]
     },
     "execution_count": 49,
     "metadata": {},
     "output_type": "execute_result"
    }
   ],
   "source": [
    "class Net(nn.Module):\n",
    "\n",
    "    def __init__(self, device=torch.device('cuda')):\n",
    "        super().__init__()\n",
    "        self.conv = nn.Conv2d(1, 3, (2, 2), stride=1, padding=1)\n",
    "        self.linear = nn.Linear(3*3*3, 2)\n",
    "        self.device = device\n",
    "        self = self.to(self.device)\n",
    "\n",
    "    def forward(self, x):\n",
    "        x = nn.ReLU()(self.conv(x))\n",
    "        return self.linear(x.view(x.shape[0], -1))\n",
    "    \n",
    "    \n",
    "    def do_train(self, X, y, epoch):\n",
    "        loss_fn = nn.CrossEntropyLoss()\n",
    "        optimizer = optim.Adam(self.parameters(), lr=0.001)\n",
    "        \n",
    "        losses, acc = [], []\n",
    "        bs = X.shape[0]//10\n",
    "        for ep in tqdm(range(epoch)):    \n",
    "            for n in range(10):\n",
    "                net.train()\n",
    "                batch_x, batch_y = X[n*bs:(n+1)*bs, :, :, :].to(self.device), y[n*bs:(n+1)*bs].to(self.device)\n",
    "                out = self(batch_x)\n",
    "                loss_batch = loss_fn(out, batch_y.long())\n",
    "                loss_batch.backward()\n",
    "                losses.append(loss_batch.item())\n",
    "                y_pred =  torch.argmax(out, axis=1).cpu()\n",
    "                acc.append(accuracy_score(batch_y.cpu().numpy(), y_pred.numpy()))\n",
    "                optimizer.step()\n",
    "            losses[ep] = np.mean(losses[-bs:])\n",
    "            acc[ep] = np.mean(acc[-bs:])\n",
    "        return losses[:ep], acc[:ep]\n",
    "\n",
    "    \n",
    "X = torch.randn(200, 4)\n",
    "\n",
    "\n",
    "net = Net(device=torch.device('cuda'))\n",
    "net"
   ]
  },
  {
   "cell_type": "code",
   "execution_count": 70,
   "metadata": {},
   "outputs": [],
   "source": [
    "X = torch.randint(-1, 2, (200, 4)).float()\n",
    "Sum = torch.sum(X, axis = 1) + 10\n",
    "y = Sum.clone()\n",
    "y[y <= torch.mean(Sum)] = 0\n",
    "y[y >  torch.mean(Sum)] = 1\n",
    "X = X.reshape(-1, 1, 2, 2)"
   ]
  },
  {
   "cell_type": "code",
   "execution_count": 71,
   "metadata": {},
   "outputs": [
    {
     "name": "stderr",
     "output_type": "stream",
     "text": [
      "100%|████████████████████████████████████████████████████████████████████████████████| 100/100 [00:09<00:00, 10.98it/s]\n"
     ]
    }
   ],
   "source": [
    "losses, acc = net.do_train(X, y, 100)"
   ]
  },
  {
   "cell_type": "code",
   "execution_count": 72,
   "metadata": {},
   "outputs": [
    {
     "data": {
      "image/png": "[encoded data removed]",
      "text/plain": [
       "<Figure size 432x288 with 1 Axes>"
      ]
     },
     "metadata": {
      "needs_background": "light"
     },
     "output_type": "display_data"
    }
   ],
   "source": [
    "plt.plot(losses, label='Loss')\n",
    "plt.plot(acc, label='Accuracy')\n",
    "plt.xlabel('Steps')\n",
    "plt.legend()\n",
    "plt.grid()\n",
    "plt.show()"
   ]
  },
  {
   "cell_type": "code",
   "execution_count": 73,
   "metadata": {},
   "outputs": [
    {
     "name": "stdout",
     "output_type": "stream",
     "text": [
      "X: tensor([[[ 1.,  0.],\n",
      "         [ 1., -1.]]])\n",
      "Y_true: 1.0\n",
      "net(x): tensor([[-11.2035,  11.3149]], device='cuda:0', grad_fn=<AddmmBackward>)\n"
     ]
    }
   ],
   "source": [
    "dev = torch.device('cuda')\n",
    "x = X[0]\n",
    "print('X: {}'.format(x))\n",
    "print('Y_true: {}'.format(y[0]))\n",
    "print('net(x): {}'.format(net(x.to(dev).view(1, 1, 2, 2))))"
   ]
  },
  {
   "cell_type": "code",
   "execution_count": 100,
   "metadata": {},
   "outputs": [],
   "source": [
    "epoch = 50\n",
    "m = [50]*epoch\n",
    "a = [0.1]*epoch\n",
    "v = 1"
   ]
  },
  {
   "cell_type": "code",
   "execution_count": 86,
   "metadata": {},
   "outputs": [
    {
     "name": "stderr",
     "output_type": "stream",
     "text": [
      "100%|██████████████████████████████████████████████████████████████████████████████████| 50/50 [00:00<00:00, 84.18it/s]\n"
     ]
    }
   ],
   "source": [
    "loss = SpecificSoftmaxMSE(neuron=1, y_true=0, dim=1)\n",
    "ADVoptim = ZeroSGD(model=net, loss=loss)\n",
    "x_out, loss_curve, out, xs = ADVoptim.run(x, v, m, a, epsilon=0.45,\n",
    "                             max_steps=epoch, stop_criterion = 0,\n",
    "                             max_aux_step = 100, verbose=0, additional_out=True)"
   ]
  },
  {
   "cell_type": "code",
   "execution_count": 87,
   "metadata": {},
   "outputs": [
    {
     "name": "stdout",
     "output_type": "stream",
     "text": [
      "Starting input \n",
      "tensor([[[ 1.,  0.],\n",
      "         [ 1., -1.]]])\n",
      "has output:\n",
      "tensor([[-11.2035,  11.3149]], device='cuda:0', grad_fn=<AddmmBackward>)\n",
      "\n",
      "New input \n",
      "tensor([[[[ 0.5500, -0.4500],\n",
      "          [ 0.5500, -1.4500]]]], device='cuda:0', grad_fn=<AsStridedBackward>)\n",
      " has output:\n",
      "tensor([[0.2455, 0.0392]], device='cuda:0', grad_fn=<AddmmBackward>):\n"
     ]
    }
   ],
   "source": [
    "print('Starting input \\n{}\\nhas output:\\n{}\\n'.format(x, net(x.to(dev).view(1, 1, 2, 2))))\n",
    "print('New input \\n{}\\n has output:\\n{}:'.format(x_out, net(x_out)))"
   ]
  },
  {
   "cell_type": "code",
   "execution_count": 92,
   "metadata": {},
   "outputs": [
    {
     "data": {
      "text/plain": [
       "torch.Size([200, 1, 2, 2])"
      ]
     },
     "execution_count": 92,
     "metadata": {},
     "output_type": "execute_result"
    }
   ],
   "source": [
    "X.shape"
   ]
  },
  {
   "cell_type": "code",
   "execution_count": 126,
   "metadata": {},
   "outputs": [
    {
     "name": "stdout",
     "output_type": "stream",
     "text": [
      "0\n"
     ]
    }
   ],
   "source": [
    "def evaluate(e):\n",
    "    X_test = X[:10, ...]\n",
    "    success = []\n",
    "    xs = []\n",
    "    for x in X_test:\n",
    "        y_before = int(torch.argmax(net(x.to(dev).view(1, 1, 2, 2))))\n",
    "        loss = SpecificSoftmaxMSE(neuron=y_before, y_true=0, dim=1)\n",
    "        ADVoptim = ZeroSGD(model=net, loss=loss)\n",
    "        x_out, loss_curve, out, xs = ADVoptim.run(x, v, m, a, epsilon=e,\n",
    "                                 max_steps=epoch, stop_criterion = 1e-10,\n",
    "                                 max_aux_step = 100, verbose=0, additional_out=True,\n",
    "                                tqdm_disable=True)\n",
    "        if torch.argmax(net(x_out)) != y_before:\n",
    "            success.append(1)\n",
    "        else:\n",
    "            success.append(0)\n",
    "        xs.append(x_out)\n",
    "    return success, xs\n",
    "\n",
    "a1, b1 = evaluate(0.1)\n",
    "print(np.sum(a1))"
   ]
  },
  {
   "cell_type": "code",
   "execution_count": 129,
   "metadata": {},
   "outputs": [],
   "source": [
    "epoch = 10\n",
    "m = [20]*epoch\n",
    "a = [0.2]*epoch\n",
    "v = 1"
   ]
  },
  {
   "cell_type": "code",
   "execution_count": 130,
   "metadata": {},
   "outputs": [
    {
     "name": "stderr",
     "output_type": "stream",
     "text": [
      "100%|████████████████████████████████████████████████████████████████████████████████████| 8/8 [00:07<00:00,  1.14it/s]\n"
     ]
    },
    {
     "data": {
      "text/plain": [
       "array([ 0,  4,  5,  8, 10, 10, 10, 10])"
      ]
     },
     "execution_count": 130,
     "metadata": {},
     "output_type": "execute_result"
    }
   ],
   "source": [
    "res = []\n",
    "for e in tqdm(range(1, 9)):   \n",
    "    a1, _ = evaluate(e*0.1)\n",
    "    res.append(a1)\n",
    "np.sum(res, axis=1)"
   ]
  }
 ],
 "metadata": {
  "kernelspec": {
   "display_name": "Python 3",
   "language": "python",
   "name": "python3"
  },
  "language_info": {
   "codemirror_mode": {
    "name": "ipython",
    "version": 3
   },
   "file_extension": ".py",
   "mimetype": "text/x-python",
   "name": "python",
   "nbconvert_exporter": "python",
   "pygments_lexer": "ipython3",
   "version": "3.6.8"
  }
 },
 "nbformat": 4,
 "nbformat_minor": 4
}
