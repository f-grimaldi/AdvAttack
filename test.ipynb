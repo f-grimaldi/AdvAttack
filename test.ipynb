{
 "cells": [
  {
   "cell_type": "code",
   "execution_count": 11,
   "metadata": {},
   "outputs": [],
   "source": [
    "import numpy as np\n",
    "import torch"
   ]
  },
  {
   "cell_type": "code",
   "execution_count": 20,
   "metadata": {},
   "outputs": [
    {
     "data": {
      "text/plain": [
       "tensor([[[0, 1],\n",
       "         [2, 1]]])"
      ]
     },
     "execution_count": 20,
     "metadata": {},
     "output_type": "execute_result"
    }
   ],
   "source": [
    "# x.shape() = 1, 1, 28, 28\n",
    "x = torch.tensor([[0, 1], [2, 1]]).view(1, 2, 2)\n",
    "x"
   ]
  },
  {
   "cell_type": "code",
   "execution_count": 17,
   "metadata": {},
   "outputs": [
    {
     "data": {
      "text/plain": [
       "array([[-0.23674786, -0.76573701,  0.54133671,  0.25407053],\n",
       "       [-0.11159454,  0.09787071,  0.44575591, -0.88276251],\n",
       "       [ 0.48946426,  0.64876888, -0.26700372, -0.51791186],\n",
       "       [ 0.29348641,  0.2733523 , -0.88123401,  0.25014169],\n",
       "       [ 0.6959608 ,  0.29294264, -0.46980105, -0.45728564],\n",
       "       [-0.16184914, -0.3081667 , -0.9327134 , -0.09425416],\n",
       "       [ 0.01613805, -0.18597095, -0.91691576, -0.352732  ],\n",
       "       [-0.29170344,  0.64374265, -0.50335144, -0.49713361],\n",
       "       [-0.31338177,  0.40232801, -0.17519753,  0.84215786],\n",
       "       [ 0.98413355, -0.09695122, -0.13965834,  0.05076587]])"
      ]
     },
     "execution_count": 17,
     "metadata": {},
     "output_type": "execute_result"
    }
   ],
   "source": [
    "# Sample <num iter> vectors from euclidean sphere surface\n",
    "num_iter = 10\n",
    "d = 4\n",
    "\n",
    "u = np.random.randn(num_iter, d)\n",
    "u /= np.linalg.norm(u, axis=1).reshape(-1, 1)\n",
    "u"
   ]
  },
  {
   "cell_type": "code",
   "execution_count": null,
   "metadata": {},
   "outputs": [],
   "source": [
    "torch.tensor(u).view([num_iter] + list((1, 2, 2, 1))[1:])"
   ]
  },
  {
   "cell_type": "code",
   "execution_count": 26,
   "metadata": {},
   "outputs": [
    {
     "data": {
      "text/plain": [
       "tensor([[-0.2367,  0.2343,  2.5413,  1.2541],\n",
       "        [-0.1116,  1.0979,  2.4458,  0.1172],\n",
       "        [ 0.4895,  1.6488,  1.7330,  0.4821],\n",
       "        [ 0.2935,  1.2734,  1.1188,  1.2501],\n",
       "        [ 0.6960,  1.2929,  1.5302,  0.5427],\n",
       "        [-0.1618,  0.6918,  1.0673,  0.9057],\n",
       "        [ 0.0161,  0.8140,  1.0831,  0.6473],\n",
       "        [-0.2917,  1.6437,  1.4966,  0.5029],\n",
       "        [-0.3134,  1.4023,  1.8248,  1.8422],\n",
       "        [ 0.9841,  0.9030,  1.8603,  1.0508]], dtype=torch.float64)"
      ]
     },
     "execution_count": 26,
     "metadata": {},
     "output_type": "execute_result"
    }
   ],
   "source": [
    "x_panded = x.expand(num_iter, 1, 2, 2).view(num_iter, d)\n",
    "x_panded + u"
   ]
  },
  {
   "cell_type": "code",
   "execution_count": 30,
   "metadata": {},
   "outputs": [
    {
     "data": {
      "text/plain": [
       "tensor([[[0, 1],\n",
       "         [2, 1]],\n",
       "\n",
       "        [[0, 1],\n",
       "         [2, 1]]])"
      ]
     },
     "execution_count": 30,
     "metadata": {},
     "output_type": "execute_result"
    }
   ],
   "source": [
    "torch.cat([x, x], axis=0)"
   ]
  },
  {
   "cell_type": "code",
   "execution_count": 31,
   "metadata": {},
   "outputs": [
    {
     "data": {
      "text/plain": [
       "4"
      ]
     },
     "execution_count": 31,
     "metadata": {},
     "output_type": "execute_result"
    }
   ],
   "source": [
    "np.prod(x.shape)"
   ]
  },
  {
   "cell_type": "code",
   "execution_count": null,
   "metadata": {},
   "outputs": [],
   "source": []
  }
 ],
 "metadata": {
  "kernelspec": {
   "display_name": "Python 3",
   "language": "python",
   "name": "python3"
  },
  "language_info": {
   "codemirror_mode": {
    "name": "ipython",
    "version": 3
   },
   "file_extension": ".py",
   "mimetype": "text/x-python",
   "name": "python",
   "nbconvert_exporter": "python",
   "pygments_lexer": "ipython3",
   "version": "3.7.6"
  }
 },
 "nbformat": 4,
 "nbformat_minor": 4
}
